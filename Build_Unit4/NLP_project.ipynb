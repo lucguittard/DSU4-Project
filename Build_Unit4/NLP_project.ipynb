{
 "cells": [
  {
   "cell_type": "code",
   "execution_count": 1,
   "metadata": {},
   "outputs": [],
   "source": [
    "import re\n",
    "import numpy as np\n",
    "import pandas as pd\n",
    "from pprint import pprint\n",
    "\n",
    "# Gensim\n",
    "import gensim\n",
    "import gensim.corpora as corpora\n",
    "from gensim.parsing.preprocessing import STOPWORDS\n",
    "from gensim.utils import simple_preprocess\n",
    "from gensim.models import CoherenceModel\n",
    "from gensim.models.ldamulticore import LdaMulticore\n",
    "\n",
    "# spacy for lemmatization\n",
    "import spacy\n",
    "\n",
    "# Plotting tools\n",
    "import pyLDAvis\n",
    "import pyLDAvis.gensim  # don't skip this\n",
    "import matplotlib.pyplot as plt\n",
    "%matplotlib inline\n",
    "\n",
    "# Securitizing rhetoric/language as that which invokes fear of\n",
    "#  and/or promotes action to be taken against another who is \n",
    "#  framed to be acting either irrationally or against the \n",
    "#  interests of the state -- Me\n",
    "\n",
    "# Split State of Union speeches at periods, grade each sentence \n",
    "#  using the model (itself based on set of base docs), aggregate\n",
    "#  the scores of the speech's sentences to get an average score \n",
    "#  of securitization of the speech being analyzed. Observe how \n",
    "#  scores rise and fall with presidential terms, popularity, etc. \n",
    "\n",
    "# Start with most extreme language samples then move into the grey. \n",
    "\n",
    "# Securitization poorly describes docs at low-end of that spectrum.\n",
    "#  Consider instead adopting notion of 'sovereignty' as guiding \n",
    "#  language when determining placement of docs in lower-half of \n",
    "#  the spectrum (0-2). Other words: 'national', 'domestic' (2);\n",
    "#  'mutual', 'international' (0-1)\n",
    "\n",
    "# Exclusive vs. Inclusive language"
   ]
  },
  {
   "cell_type": "code",
   "execution_count": 2,
   "metadata": {},
   "outputs": [],
   "source": [
    "# Gather text for training\n",
    "\n",
    "docs0 = [\"\"\"Share a peaceful future based on common values.\n",
    "Conscious of its spiritual and moral heritage, the Union is founded on the indivisible,\n",
    "universal values of human dignity, freedom, equality and solidarity; \n",
    "it is based on the principles of democracy and the rule of law.\"\"\", \n",
    "              \"\"\"It seeks to promote balanced and sustainable development and ensures \n",
    "free movement of persons, services, goods and capital, and the freedom of establishment.\"\"\",\n",
    "              \"\"\"Enjoyment of these rights entails responsibilities and duties with regard\n",
    "to other persons, to the human community and to future generations.\"\"\",\n",
    "              \"\"\"Open covenants of peace, openly arrived at, after which there shall be no private \n",
    "international understandings of any kind but diplomacy shall proceed always frankly and in \n",
    "the public view. Absolute freedom of navigation upon the seas, outside territorial waters, \n",
    "alike in peace and in war, except as the seas may be closed in whole or in part by \n",
    "international action for the enforcement of international covenants. The removal, so far as \n",
    "possible, of all economic barriers and the establishment of an equality of trade conditions \n",
    "among all the nations consenting to the peace and associating themselves for its maintenance.\"\"\",\n",
    "              \"\"\"Without this healing act the whole structure and validity of \n",
    "international law is forever impaired.\"\"\",\n",
    "              \"\"\"The Dardanelles should be permanently opened \n",
    "as a free passage to the ships and commerce of all nations under international guarantees.\"\"\"]\n",
    "\n",
    "docs1 = [\"\"\"It places the individual at the heart of its activities, by establishing the \n",
    "citizenship of the Union and by creating an area of freedom, security and justice.\"\"\",\n",
    "\"\"\"A general association of nations must be formed under specific covenants \n",
    "for the purpose of affording mutual guarantees of political independence and territorial integrity \n",
    "to great and small states alike.\"\"\",\n",
    "\"\"\"To this end, it is necessary to strengthen the protection of fundamental rights in\n",
    "the light of changes in society, social progress and scientific and technological \n",
    "developments by making those rights more visible in a Charter. This Charter reaffirms,\n",
    "with due regard for the powers and tasks of the Union and for the principle of subsidiarity, \n",
    "the rights as they result, in particular, from the constitutional traditions and international\n",
    "obligations common to the Member States, the European Convention for the Protection of \n",
    "Human Rights and Fundamental Freedoms, the Social Charters adopted by the Union and by \n",
    "the Council of Europe and the case-law of the Court of Justice of the European Union and \n",
    "of the European Court of Human Rights.\"\"\",\n",
    "\"\"\"develop friendly relations among nations based on respect for the principle of equal\n",
    "rights and self-determination of peoples, and to take other appropriate \n",
    "measures to strengthen universal peace\"\"\",\n",
    "\"\"\"A country should not discriminate between its trading partners and it should not\n",
    "discriminate between its own and foreign products, services or nationals.\"\"\",\n",
    "\"\"\"South Viet-Nam will pursue a  foreign policy of peace and independence. It will \n",
    "be prepared to establish relations with all countries irrespective of their political \n",
    "and social systems on the basis of mutual respect for independence and sovereignty and \n",
    "accept economic and technical aid from any country with no political conditions attached. \"\"\"]\n",
    "\n",
    "docs2 = [\"\"\"The Union contributes to the preservation and to the development of these common values \n",
    "while respecting the diversity of the cultures and traditions of the peoples of Europe \n",
    "as well as the national identities of the Member States and the organisation of their \n",
    "public authorities at national, regional and local levels\"\"\",\n",
    "              \"\"\"In this context the Charter will be interpreted by the \n",
    "courts of the Union and the Member States with due regard to the explanations prepared under \n",
    "the authority of the Praesidium of the Convention which drafted the Charter and updated under the\n",
    "responsibility of the Praesidium of the European Convention.\"\"\",\n",
    "              \"\"\"Adequate guarantees given and taken that national armaments will be reduced to the lowest \n",
    "point consistent with domestic safety.\"\"\",\n",
    "              \"\"\"A free, open-minded, and absolutely impartial adjustment \n",
    "of all colonial claims, based upon a strict observance of the principle that in determining all \n",
    "such questions of sovereignty the interests of the populations concerned must have equal weight \n",
    "with the equitable government whose title is to be determined. The evacuation of all Russian \n",
    "territory and such a settlement of all questions affecting Russia as will secure the best and \n",
    "freest cooperation of the other nations of the world in obtaining for her an unhampered and \n",
    "unembarrassed opportunity for the independent determination of her own political development \n",
    "and national policy and assure her of a sincere welcome into the society of free nations under \n",
    "institutions of her own choosing; and, more than a welcome, assistance also of every kind that \n",
    "she may need and may herself desire.\"\"\", \n",
    "               \"\"\"The treatment accorded Russia by her sister nations in the \n",
    "months to come will be the acid test of their good will, of their comprehension of her needs as\n",
    "distinguished from their own interests, and of their intelligent and unselfish sympathy.\n",
    "Belgium, the whole world will agree, must be evacuated and restored, without any attempt to limit \n",
    "the sovereignty which she enjoys in common with all other free nations.\"\"\",\n",
    "               \"\"\"No other single act will \n",
    "serve as this will serve to restore confidence among the nations in the laws which they have \n",
    "themselves set and determined for the government of their relations with one another.\"\"\",\n",
    "              \"\"\"All French territory should be freed and the invaded portions restored, and the wrong done to \n",
    "France by Prussia in 1871 in the matter of Alsace-Lorraine, which has unsettled the peace of the \n",
    "world for nearly fifty years, should be righted, in order that peace may once more be made secure \n",
    "in the interest of all.\"\"\",\n",
    "              \"\"\"A readjustment of the frontiers of Italy should be effected along clearly \n",
    "recognizable lines of nationality. The people of Austria-Hungary, whose place among the nations we \n",
    "wish to see safeguarded and assured, should be accorded the freest opportunity to autonomous \n",
    "development.\"\"\",\n",
    "              \"\"\"Romania, Serbia, and Montenegro should be evacuated; occupied territories restored; \n",
    "Serbia accorded free and secure access to the sea; and the relations of the several Balkan states \n",
    "to one another determined by friendly counsel along historically established lines of allegiance \n",
    "and nationality; and international guarantees of the political and economic independence and \n",
    "territorial integrity of the several Balkan states should be entered into.\"\"\",\n",
    "              \"\"\"The Turkish portion of the present Ottoman Empire should be assured a secure sovereignty,\n",
    "but the other nationalities  which are now under Turkish rule should be assured an undoubted security\n",
    "of life and an absolutely unmolested opportunity of autonomous development\"\"\",\n",
    "              \"\"\"An independent Polish state should be erected which should include the territories inhabited by \n",
    "indisputably Polish populations, which should be assured a free and secure access to the sea,\n",
    "and whose political and economic independence and territorial integrity should be guaranteed by \n",
    "international covenant.\"\"\",\n",
    "        \"\"\"The United States and all other countries respect the independence, sovereignty, unity, and\n",
    "        territorial integrity of Viet-Nam as recognized by the 1954 Geneva Agreements on Viet-Nam.\"\"\",\n",
    "        \"\"\"The parties agree on the convening of an International Conference within thirty days of the \n",
    "signing of this Agreement to acknowledge the signed agreements; to guarantee the ending of the war,\n",
    "the maintenance of peace in Viet- Nam, the respect of the Vietnamese people's fundamental national rights,\n",
    "and the South Vietnamese people's right to self-determination; and to contribute to and\n",
    "guarantee peace in Indochina.\"\"\"]\n",
    "\n",
    "docs3 = [\"\"\"Blackshirts of revolution, men and women of all Italy, Italians all over the world,\n",
    "beyond the mountains, beyond the seas, listen. A solemn hour is about to strike in the history\n",
    "of the country. Twenty million Italians are at this moment gathered in the squares of all Italy. \n",
    "It is the greatest demonstration that human history records. Twenty million, one heart alone,\n",
    "one will alone,one decision. This manifestation signifies that the tie between Italy and fascism\n",
    "is perfect, absolute, unalterable.\"\"\",\n",
    "              \"\"\"But after the common victory, which cost Italy six hundred thousand dead, four hundred thousand lost,\n",
    "one million wounded, when peace was being discussed around the table only the crumbs of a rich\n",
    "colonial booty were left for us to pick up.\"\"\",\n",
    "              \"\"\"A people worthy of their past and their name cannot and never will \n",
    "take a different stand.\"\"\",\n",
    "              \"\"\"However we can never consider what we have achieved to be sufficient, because \n",
    "we must, and are determined to accomplish even more and greater tasks. We shall raise our country to \n",
    "the level of the most prosperous and civilized nations of the world. We shall endow our nation with\n",
    "the broadest means and sources of welfare. We shall raise our national culture above the contemporary \n",
    "level of civilization. Therefore, we should judge the measure of time not according to the lax\n",
    "mentality of past centuries, but in terms of the concepts of speed and movement of our century.\"\"\",\n",
    "              \"\"\"I have no doubt that we shall succeed in this, because the Turkish nation is of excellent character.\n",
    "The Turkish nation is intelligent, because the Turkish nation is capable of overcoming difficulties \n",
    "of national unity, and because it holds the torch of positive sciences. I must make it clear with \n",
    "due emphasis, that a historical quality of the Turkish nation, which is an exalted human community, \n",
    "is its love for fine arts and progress in them.\"\"\",\n",
    "              \"\"\"This is why our national ideal is to constantly\n",
    "foster and promote, with all means and measures, our nation’s excellent character, its tireless \n",
    "industriousness, intelligence, devotion to science, love for fine arts and sense of national unity.\"\"\"]\n",
    "\n",
    "docs4 = [\"\"\"Only brains softened by puerile illusions, by sheer ignorance,\n",
    "can think differently, because they do not know what exactly is the Fascist Italy of 1935.\n",
    "For many months the wheel of destiny and of the impulse of our calm determination moves toward\n",
    "the goal.\"\"\",\n",
    "              \"\"\"In these last hours the rhythm has increased and nothing can stop it now.\n",
    "It is not only an army marching towards its goal, but it is forty-four million Italians marching\n",
    "in unity behind this army. Because the blackest of injustices is being attempted against them, \n",
    "that of taking from them their place in the sun. When in 1915 Italy threw in her fate with that \n",
    "of the Allies, how many cries of admiration, how many promises were heard?\"\"\",\n",
    "              \"\"\"Nevertheless, we cannot afford to overlook the possible developments of tomorrow.\n",
    "To economic sanctions, we shall answer with our discipline, our spirit of sacrifice, our obedience. \n",
    "To military sanctions, we shall answer with military measures. To acts of war, \n",
    "we shall answer with acts of war. # talk of militarization and war\"\"\",\n",
    "              \"\"\"Let me repeat, in the most categorical manner, that the sacred pledge which\n",
    "I make at this moment, before all the Italians gathered together today, is that I shall do everything \n",
    "in my power to prevent a colonial conflict from taking on the aspect and weight of a European war.\n",
    "This conflict may be attractive to certain minds which hope to avenge their disintegrated temples \n",
    "through this new catastrophe.\"\"\",\n",
    "              \"\"\"The Turkish Nation! We are in the fifteenth year of the start of our war of liberation.\n",
    "This is the greatest day marking the tenth year of our Republic. May it be celebrated.\n",
    "At this moment as a member of the great Turkish nation, I feel the deepest joy and excitement \n",
    "for having achieved this happy day. My citizens, We have accomplished many and great tasks in \n",
    "a short time.\"\"\",\n",
    "              \"\"\"The greatest of these is the Turkish Republic, the basis of which is the Turkish heroism\n",
    "and the great Turkish culture. We owe this success to the cooperative progress of the Turkish nation \n",
    "and its valuable army.\"\"\",\n",
    "              \"\"\"This ideal, which very well suits the Turkish nation, will enable it to succeed in performing the \n",
    "civilized task falling on it in securing true peace for all mankind. The Great Turkish Nation!\"\"\",\n",
    "              \"\"\"Today, I repeat with the same faith and determination that it will soon\n",
    "be acknowledged once again by the entire civilized world that the Turkish nation, who has been \n",
    "progressing towards the national ideal in exact unison, is a great nation. Never have doubted that\n",
    "the great, but forgotten, civilized characteristic and the great civilized talents of the Turkish \n",
    "nation, will, in its progress henceforth, rise like a new sun from the high horizon of civilization\n",
    "for the future. The Turkish nation, I express my heartfelt wish that you will celebrate, \n",
    "after each decade elapsing into eternity, this great national day, in greater honor, happiness, \n",
    "peace and prosperity. How happy it is to say that I am a Turk!\"\"\"]\n",
    "\n",
    "docs5 = [\"\"\"It is enough now. The League of Nations, instead of recognizing the \n",
    "rights of Italy, dares talk of sanctions, but until there is proof of the contrary, I refuse to \n",
    "believe that the authentic people of France will join in supporting sanctions against Italy.\"\"\", \n",
    "\"\"\"Six hundred thousand dead whose devotion was so heroic that the enemy commander justly admired \n",
    "them—those fallen would now turn in their graves. And until there is proof to the contrary,\n",
    "I refuse to believe that the authentic people of Britain will want to spill blood and send Europe\n",
    "into a catastrophe for the sake of a barbarian country, unworthy of ranking among civilized nations.\"\"\",\n",
    "              \"\"\"Never, as at this historical hour, have the people of Italy revealed \n",
    "such force of character, and it is against this people to which mankind owes its greatest conquest,\n",
    "this people of heroes, of poets and saints, of navigators, of colonizers, that the world dares\n",
    "threaten sanctions.\"\"\",\n",
    "               \"\"\"Italy! Italy! entirely and universally Fascist! The Italy of the blackshirt\n",
    "fascist revolution, rise to your feet; let the cry of your determination rise to the skies and reach\n",
    "our soldiers in East Africa. Let it be a comfort to those who are about to fight.\"\"\", \n",
    "\"\"\"Let it be an encouragement to our friends and a warning to our enemies. It is the cry of Italy which\n",
    "goes beyond the mountains and the seas out into the great world. It is the cry of justice and of victory.\"\"\"] "
   ]
  },
  {
   "cell_type": "code",
   "execution_count": 3,
   "metadata": {},
   "outputs": [],
   "source": [
    "all_docs = []\n",
    "for doc in docs0: # See founding documents of prominent IGOs \n",
    "    all_docs.append(doc)\n",
    "for doc in docs1:\n",
    "    all_docs.append(doc)\n",
    "for doc in docs2: # For 2, Refer to documents of peace accords\n",
    "    all_docs.append(doc)\n",
    "for doc in docs3: \n",
    "# From 3-5, may refer to declarations of war documents and rhetoric\n",
    "#  from populist or more extreme political figures            \n",
    "    all_docs.append(doc)\n",
    "for doc in docs4:\n",
    "    all_docs.append(doc)\n",
    "for doc in docs5:\n",
    "    all_docs.append(doc)\n",
    "    \n",
    "# What a joke: \n",
    "# https://www.senate.gov/artandhistory/history/resources/pdf/SJRES119_WWII_Germany.pdf"
   ]
  },
  {
   "cell_type": "code",
   "execution_count": 4,
   "metadata": {},
   "outputs": [
    {
     "data": {
      "text/plain": [
       "2    19\n",
       "5    13\n",
       "0    12\n",
       "Name: score, dtype: int64"
      ]
     },
     "execution_count": 4,
     "metadata": {},
     "output_type": "execute_result"
    }
   ],
   "source": [
    "learn_set = {'text': all_docs, \n",
    "             'score': [0,0,0,0,0,0, 0,0,0,0,0,0, 2,2,2,2,2,2,\n",
    "                       2,2,2,2,2,2,2, 2,2,2,2,2,2, 5,5,5,5,\n",
    "                       5,5,5,5, 5,5,5,5,5]}\n",
    "\n",
    "base = pd.DataFrame(learn_set)\n",
    "base.score.value_counts()"
   ]
  },
  {
   "cell_type": "code",
   "execution_count": 5,
   "metadata": {},
   "outputs": [],
   "source": [
    "# May also consider training a model based on negative yelp reviews,\n",
    "#  working from the theory that feelings of disgust are \n",
    "#  interrelated with political orientation and prevalence \n",
    "#  of distrust towards 'others/outsiders'"
   ]
  },
  {
   "cell_type": "code",
   "execution_count": 6,
   "metadata": {},
   "outputs": [],
   "source": [
    "#yelp = pd.read_json('./NLP-Project/review_sample.json', lines=True)"
   ]
  },
  {
   "cell_type": "code",
   "execution_count": 7,
   "metadata": {},
   "outputs": [],
   "source": [
    "# Map scores to another scale, in line with above\n",
    "# yelp2 = yelp\n",
    "# yelp2.stars = yelp['stars'].replace({1: 5, 2: 4, 3: 3, 4: 2, 5: 1})\n",
    "# yelp2.head()"
   ]
  },
  {
   "cell_type": "markdown",
   "metadata": {},
   "source": [
    "## Do NLP"
   ]
  },
  {
   "cell_type": "code",
   "execution_count": 8,
   "metadata": {},
   "outputs": [
    {
     "data": {
      "text/plain": [
       "['Hello', \"It's good to meet you\", 'My name is Clavin']"
      ]
     },
     "execution_count": 8,
     "metadata": {},
     "output_type": "execute_result"
    }
   ],
   "source": [
    "# Process State-of-The-Union Addresses\n",
    "\n",
    "# Split by sentence. \n",
    "SOTU1 = \"\"\"Hello. It's good to meet you.\n",
    "... My name is Clavin.\"\"\"\n",
    "[x for x in map(str.strip, SOTU1.split('.')) if x]\n",
    "\n",
    "# Treat each sentence as a doc -> pass through model \n",
    "#  to get score predictions of each sentence-doc\n",
    "\n",
    "# Get average of aggregate sentence scores "
   ]
  },
  {
   "cell_type": "markdown",
   "metadata": {},
   "source": [
    "### Pre-processing"
   ]
  },
  {
   "cell_type": "code",
   "execution_count": 9,
   "metadata": {},
   "outputs": [],
   "source": [
    "# Import Statements\n",
    "from sklearn.pipeline import Pipeline\n",
    "from sklearn.datasets import fetch_20newsgroups\n",
    "from sklearn.ensemble import RandomForestClassifier, RandomForestRegressor\n",
    "from sklearn.model_selection import GridSearchCV, train_test_split\n",
    "from sklearn.feature_extraction.text import TfidfVectorizer\n",
    "\n",
    "nlp = spacy.load(\"en_core_web_lg\")"
   ]
  },
  {
   "cell_type": "code",
   "execution_count": 10,
   "metadata": {},
   "outputs": [],
   "source": [
    "# Making a list of stop-words\n",
    "STOPWORDS = set(STOPWORDS).union(set(['and','or','of','to','a','for','with','be','in',' ','<>']))"
   ]
  },
  {
   "cell_type": "code",
   "execution_count": 11,
   "metadata": {},
   "outputs": [],
   "source": [
    "# Improve the list of stop-words\n",
    "\n",
    "import re\n",
    "    \n",
    "def tokenize(x):\n",
    "    text = x.lower()\n",
    "    text = re.sub(r'[^a-zA-Z ^0-9]', '', str(text))\n",
    "    return text.split()\n",
    "\n",
    "base['tokens'] = base['text'].apply(lambda x: tokenize(x))"
   ]
  },
  {
   "cell_type": "code",
   "execution_count": 12,
   "metadata": {},
   "outputs": [],
   "source": [
    "def spacy_lemmatize(x):\n",
    "    doc = nlp.tokenizer(x)\n",
    "    return [token.lemma_ for token in doc]\n",
    "\n",
    "base['lemmas'] = base['tokens'].apply(lambda x: spacy_lemmatize(' '.join(x)))"
   ]
  },
  {
   "cell_type": "code",
   "execution_count": 13,
   "metadata": {},
   "outputs": [],
   "source": [
    "from collections import Counter\n",
    "spacy_stopwords = spacy.lang.en.stop_words.STOP_WORDS\n",
    "\n",
    "def remove_stopwords(tokens):\n",
    "    cleaned_tokens = []\n",
    "    \n",
    "    for token in tokens:\n",
    "        if token not in STOPWORDS:\n",
    "            cleaned_tokens.append(token)\n",
    "    \n",
    "    return cleaned_tokens\n",
    "\n",
    "def word_counter(tokens):\n",
    "    word_counts = Counter()\n",
    "    word_counts.update(tokens)\n",
    "    return word_counts"
   ]
  },
  {
   "cell_type": "code",
   "execution_count": 14,
   "metadata": {},
   "outputs": [],
   "source": [
    "base['10_most_common'] = base['lemmas'].apply(lambda x: word_counter(remove_stopwords(x)).most_common(10))"
   ]
  },
  {
   "cell_type": "code",
   "execution_count": 15,
   "metadata": {},
   "outputs": [
    {
     "data": {
      "text/html": [
       "<div>\n",
       "<style scoped>\n",
       "    .dataframe tbody tr th:only-of-type {\n",
       "        vertical-align: middle;\n",
       "    }\n",
       "\n",
       "    .dataframe tbody tr th {\n",
       "        vertical-align: top;\n",
       "    }\n",
       "\n",
       "    .dataframe thead th {\n",
       "        text-align: right;\n",
       "    }\n",
       "</style>\n",
       "<table border=\"1\" class=\"dataframe\">\n",
       "  <thead>\n",
       "    <tr style=\"text-align: right;\">\n",
       "      <th></th>\n",
       "      <th>text</th>\n",
       "      <th>score</th>\n",
       "      <th>tokens</th>\n",
       "      <th>lemmas</th>\n",
       "      <th>10_most_common</th>\n",
       "    </tr>\n",
       "  </thead>\n",
       "  <tbody>\n",
       "    <tr>\n",
       "      <th>0</th>\n",
       "      <td>Share a peaceful future based on common values...</td>\n",
       "      <td>0</td>\n",
       "      <td>[share, a, peaceful, future, based, on, common...</td>\n",
       "      <td>[share, a, peaceful, future, base, on, common,...</td>\n",
       "      <td>[(base, 2), (share, 1), (peaceful, 1), (future...</td>\n",
       "    </tr>\n",
       "    <tr>\n",
       "      <th>1</th>\n",
       "      <td>It seeks to promote balanced and sustainable d...</td>\n",
       "      <td>0</td>\n",
       "      <td>[it, seeks, to, promote, balanced, and, sustai...</td>\n",
       "      <td>[it, seek, to, promote, balance, and, sustaina...</td>\n",
       "      <td>[(seek, 1), (promote, 1), (balance, 1), (susta...</td>\n",
       "    </tr>\n",
       "    <tr>\n",
       "      <th>2</th>\n",
       "      <td>Enjoyment of these rights entails responsibili...</td>\n",
       "      <td>0</td>\n",
       "      <td>[enjoyment, of, these, rights, entails, respon...</td>\n",
       "      <td>[enjoyment, of, this, right, entail, responsib...</td>\n",
       "      <td>[(enjoyment, 1), (right, 1), (entail, 1), (res...</td>\n",
       "    </tr>\n",
       "    <tr>\n",
       "      <th>3</th>\n",
       "      <td>Open covenants of peace, openly arrived at, af...</td>\n",
       "      <td>0</td>\n",
       "      <td>[open, covenants, of, peace, openly, arrived, ...</td>\n",
       "      <td>[open, covenant, of, peace, openly, arrive, at...</td>\n",
       "      <td>[(peace, 3), (international, 3), (covenant, 2)...</td>\n",
       "    </tr>\n",
       "    <tr>\n",
       "      <th>4</th>\n",
       "      <td>Without this healing act the whole structure a...</td>\n",
       "      <td>0</td>\n",
       "      <td>[without, this, healing, act, the, whole, stru...</td>\n",
       "      <td>[without, this, heal, act, the, whole, structu...</td>\n",
       "      <td>[(heal, 1), (act, 1), (structure, 1), (validit...</td>\n",
       "    </tr>\n",
       "  </tbody>\n",
       "</table>\n",
       "</div>"
      ],
      "text/plain": [
       "                                                text  score  \\\n",
       "0  Share a peaceful future based on common values...      0   \n",
       "1  It seeks to promote balanced and sustainable d...      0   \n",
       "2  Enjoyment of these rights entails responsibili...      0   \n",
       "3  Open covenants of peace, openly arrived at, af...      0   \n",
       "4  Without this healing act the whole structure a...      0   \n",
       "\n",
       "                                              tokens  \\\n",
       "0  [share, a, peaceful, future, based, on, common...   \n",
       "1  [it, seeks, to, promote, balanced, and, sustai...   \n",
       "2  [enjoyment, of, these, rights, entails, respon...   \n",
       "3  [open, covenants, of, peace, openly, arrived, ...   \n",
       "4  [without, this, healing, act, the, whole, stru...   \n",
       "\n",
       "                                              lemmas  \\\n",
       "0  [share, a, peaceful, future, base, on, common,...   \n",
       "1  [it, seek, to, promote, balance, and, sustaina...   \n",
       "2  [enjoyment, of, this, right, entail, responsib...   \n",
       "3  [open, covenant, of, peace, openly, arrive, at...   \n",
       "4  [without, this, heal, act, the, whole, structu...   \n",
       "\n",
       "                                      10_most_common  \n",
       "0  [(base, 2), (share, 1), (peaceful, 1), (future...  \n",
       "1  [(seek, 1), (promote, 1), (balance, 1), (susta...  \n",
       "2  [(enjoyment, 1), (right, 1), (entail, 1), (res...  \n",
       "3  [(peace, 3), (international, 3), (covenant, 2)...  \n",
       "4  [(heal, 1), (act, 1), (structure, 1), (validit...  "
      ]
     },
     "execution_count": 15,
     "metadata": {},
     "output_type": "execute_result"
    }
   ],
   "source": [
    "base.head()"
   ]
  },
  {
   "cell_type": "code",
   "execution_count": 16,
   "metadata": {},
   "outputs": [
    {
     "data": {
      "text/plain": [
       "2    19\n",
       "5    13\n",
       "0    12\n",
       "Name: score, dtype: int64"
      ]
     },
     "execution_count": 16,
     "metadata": {},
     "output_type": "execute_result"
    }
   ],
   "source": [
    "base.score.value_counts()"
   ]
  },
  {
   "cell_type": "code",
   "execution_count": 17,
   "metadata": {},
   "outputs": [
    {
     "data": {
      "text/plain": [
       "[('serbia', 2),\n",
       " ('balkan', 2),\n",
       " ('state', 2),\n",
       " ('romania', 1),\n",
       " ('montenegro', 1),\n",
       " ('evacuate', 1),\n",
       " ('occupy', 1),\n",
       " ('territory', 1),\n",
       " ('restore', 1),\n",
       " ('accord', 1)]"
      ]
     },
     "execution_count": 17,
     "metadata": {},
     "output_type": "execute_result"
    }
   ],
   "source": [
    "base['10_most_common'][20][:20]"
   ]
  },
  {
   "cell_type": "markdown",
   "metadata": {},
   "source": [
    "### Making Class Predictions: TfidfVectorizer"
   ]
  },
  {
   "cell_type": "code",
   "execution_count": 18,
   "metadata": {},
   "outputs": [],
   "source": [
    "# Create Pipeline Components\n",
    "vect = TfidfVectorizer(stop_words=STOPWORDS)\n",
    "rfc = RandomForestClassifier()\n",
    "rfr = RandomForestRegressor()"
   ]
  },
  {
   "cell_type": "code",
   "execution_count": 19,
   "metadata": {},
   "outputs": [],
   "source": [
    "# Define the Pipeline\n",
    "pipe = Pipeline([\n",
    "                 #Vectorizer\n",
    "                 ('vect', vect), \n",
    "                 # Classifier\n",
    "                 ('clf', rfc)\n",
    "                ])"
   ]
  },
  {
   "cell_type": "code",
   "execution_count": 20,
   "metadata": {},
   "outputs": [
    {
     "name": "stdout",
     "output_type": "stream",
     "text": [
      "Fitting 10 folds for each of 32 candidates, totalling 320 fits\n"
     ]
    },
    {
     "name": "stderr",
     "output_type": "stream",
     "text": [
      "[Parallel(n_jobs=-1)]: Using backend LokyBackend with 4 concurrent workers.\n",
      "[Parallel(n_jobs=-1)]: Done  56 tasks      | elapsed:    3.8s\n",
      "[Parallel(n_jobs=-1)]: Done 320 out of 320 | elapsed:    6.5s finished\n",
      "/Users/Person/anaconda3/envs/NLP/lib/python3.7/site-packages/sklearn/model_selection/_search.py:841: DeprecationWarning: The default of the `iid` parameter will change from True to False in version 0.22 and will be removed in 0.24. This will change numeric results when test-set sizes are unequal.\n",
      "  DeprecationWarning)\n"
     ]
    },
    {
     "data": {
      "text/plain": [
       "0.6363636363636364"
      ]
     },
     "execution_count": 20,
     "metadata": {},
     "output_type": "execute_result"
    }
   ],
   "source": [
    "parameters = {\n",
    "    'vect__max_df': ( 0.70, 1.0),\n",
    "    'vect__min_df': (.01, .10),\n",
    "    'vect__max_features': (500,1000),\n",
    "    'clf__n_estimators':(5, 15),\n",
    "    'clf__max_depth':(10,20)\n",
    "}\n",
    "\n",
    "grid_search = GridSearchCV(pipe,parameters, cv=10, n_jobs=-1, verbose=1)\n",
    "grid_search.fit(base.text, base.score)\n",
    "\n",
    "grid_search.best_score_\n",
    "#latent semantic indexing (LSI) offers no improvement "
   ]
  },
  {
   "cell_type": "code",
   "execution_count": 21,
   "metadata": {},
   "outputs": [],
   "source": [
    "## Now, repeat above steps for Yelp dataset\n",
    "# grid_search_yelp = GridSearchCV(pipe, parameters, cv=5, n_jobs=-1, verbose=1)\n",
    "# grid_search_yelp.fit(yelp2.text, yelp2.stars)\n",
    "# grid_search_yelp.best_score_"
   ]
  },
  {
   "cell_type": "code",
   "execution_count": 22,
   "metadata": {},
   "outputs": [
    {
     "name": "stderr",
     "output_type": "stream",
     "text": [
      "/Users/Person/anaconda3/envs/NLP/lib/python3.7/site-packages/nltk/decorators.py:68: DeprecationWarning: `formatargspec` is deprecated since Python 3.5. Use `signature` and the `Signature` object directly\n",
      "  regargs, varargs, varkwargs, defaults, formatvalue=lambda value: \"\"\n"
     ]
    }
   ],
   "source": [
    "import numpy as np\n",
    "import nltk\n",
    "import nltk.data\n",
    "from nltk.tokenize import sent_tokenize\n",
    "sent_detector = nltk.data.load('tokenizers/punkt/english.pickle')\n",
    "\n",
    "# Function to take a speech/doc or list of them and output their \n",
    "#  respective 'securitization' scores\n",
    "def doc_score(docs_list):\n",
    "    avg_scores = []\n",
    "    for i in range(len(docs_list)):\n",
    "        pred_scores = []\n",
    "        sentence_list = [sent_tokenize(docs_list[i]),]\n",
    "        for i in range(len(sentence_list)):\n",
    "            pred_score = grid_search.predict(sentence_list[i])\n",
    "            pred_scores.append(pred_score)\n",
    "        avg_score = (np.mean(pred_scores))\n",
    "        avg_scores.append(avg_score)\n",
    "    return(avg_scores)"
   ]
  },
  {
   "cell_type": "code",
   "execution_count": 26,
   "metadata": {},
   "outputs": [
    {
     "name": "stdout",
     "output_type": "stream",
     "text": [
      "2.000000    17\n",
      "0.000000    10\n",
      "2.500000     5\n",
      "3.500000     3\n",
      "3.000000     2\n",
      "0.666667     1\n",
      "1.666667     1\n",
      "1.800000     1\n",
      "5.000000     1\n",
      "3.750000     1\n",
      "1.250000     1\n",
      "1.000000     1\n",
      "Name: score, dtype: int64\n",
      "2    19\n",
      "5    13\n",
      "0    12\n",
      "Name: score, dtype: int64\n"
     ]
    }
   ],
   "source": [
    "# See how well the fit model predicts your base -> No dice for Yelp fit\n",
    "#  Why? Political/formal speech differs considerably from popular/informal\n",
    "#  Results indicate that Yelp reviews are perhaps generally more extreme\n",
    "#  than even some of the most extreme examples of securitizing speech.  \n",
    "\n",
    "# To run on Yelp model, \n",
    "# replace grid_search in doc_score() with grid_search_yelp\n",
    "test = pd.DataFrame()\n",
    "test['text'] = base['text']\n",
    "test['score'] = (test.apply(doc_score)).apply(pd.Series)\n",
    "\n",
    "print(test.score.value_counts())\n",
    "print(base.score.value_counts())"
   ]
  },
  {
   "cell_type": "markdown",
   "metadata": {},
   "source": [
    "### Apply Model to Real World Example: \n",
    "State of The Unions delivered by individual presidents"
   ]
  },
  {
   "cell_type": "code",
   "execution_count": 28,
   "metadata": {},
   "outputs": [],
   "source": [
    "# Call file containing text resources\n",
    "%run -i 'transcripts.py'"
   ]
  },
  {
   "cell_type": "code",
   "execution_count": 29,
   "metadata": {},
   "outputs": [],
   "source": [
    "# Make a dataframe containing transcripts of all\n",
    "#  State of The Unions delivered by George W. Bush\n",
    "data = {'text': [suGWB1,suGWB2,suGWB3,suGWB4,\n",
    "                suGWB5,suGWB6,suGWB7,suGWB8,]} \n",
    "\n",
    "su_transcripts = pd.DataFrame(data = data)\n",
    "su_transcripts2 = pd.DataFrame(data = data)"
   ]
  },
  {
   "cell_type": "code",
   "execution_count": 30,
   "metadata": {},
   "outputs": [
    {
     "data": {
      "text/html": [
       "<div>\n",
       "<style scoped>\n",
       "    .dataframe tbody tr th:only-of-type {\n",
       "        vertical-align: middle;\n",
       "    }\n",
       "\n",
       "    .dataframe tbody tr th {\n",
       "        vertical-align: top;\n",
       "    }\n",
       "\n",
       "    .dataframe thead th {\n",
       "        text-align: right;\n",
       "    }\n",
       "</style>\n",
       "<table border=\"1\" class=\"dataframe\">\n",
       "  <thead>\n",
       "    <tr style=\"text-align: right;\">\n",
       "      <th></th>\n",
       "      <th>text</th>\n",
       "    </tr>\n",
       "  </thead>\n",
       "  <tbody>\n",
       "    <tr>\n",
       "      <th>0</th>\n",
       "      <td>Mr. Speaker, Mr. Vice President, Members of Co...</td>\n",
       "    </tr>\n",
       "    <tr>\n",
       "      <th>1</th>\n",
       "      <td>Thank you very much. Mr. Speaker, Vice Preside...</td>\n",
       "    </tr>\n",
       "    <tr>\n",
       "      <th>2</th>\n",
       "      <td>Mr. Speaker, Vice President Cheney, members of...</td>\n",
       "    </tr>\n",
       "    <tr>\n",
       "      <th>3</th>\n",
       "      <td>Mr. Speaker, Vice President Cheney, Members of...</td>\n",
       "    </tr>\n",
       "    <tr>\n",
       "      <th>4</th>\n",
       "      <td>Mr. Speaker, Vice President Cheney, members of...</td>\n",
       "    </tr>\n",
       "    <tr>\n",
       "      <th>5</th>\n",
       "      <td>Today our Nation lost a beloved, graceful, cou...</td>\n",
       "    </tr>\n",
       "    <tr>\n",
       "      <th>6</th>\n",
       "      <td>Thank you very much. And tonight, I have a hig...</td>\n",
       "    </tr>\n",
       "    <tr>\n",
       "      <th>7</th>\n",
       "      <td>Seven years have passed since I first stood be...</td>\n",
       "    </tr>\n",
       "  </tbody>\n",
       "</table>\n",
       "</div>"
      ],
      "text/plain": [
       "                                                text\n",
       "0  Mr. Speaker, Mr. Vice President, Members of Co...\n",
       "1  Thank you very much. Mr. Speaker, Vice Preside...\n",
       "2  Mr. Speaker, Vice President Cheney, members of...\n",
       "3  Mr. Speaker, Vice President Cheney, Members of...\n",
       "4  Mr. Speaker, Vice President Cheney, members of...\n",
       "5  Today our Nation lost a beloved, graceful, cou...\n",
       "6  Thank you very much. And tonight, I have a hig...\n",
       "7  Seven years have passed since I first stood be..."
      ]
     },
     "execution_count": 30,
     "metadata": {},
     "output_type": "execute_result"
    }
   ],
   "source": [
    "su_transcripts\n",
    "su_transcripts2"
   ]
  },
  {
   "cell_type": "code",
   "execution_count": 31,
   "metadata": {},
   "outputs": [],
   "source": [
    "# Apply the scoring function to this new dataset\n",
    "su_transcripts['score'] = (su_transcripts.apply(doc_score, axis=1)\n",
    "                          ).apply(pd.Series)\n",
    "su_transcripts['year'] = ['2001','2002','2003','2004',\n",
    "                          '2005','2006','2007','2008']\n",
    "#(lambda x: doc_score(x), su_transcripts['text'])"
   ]
  },
  {
   "cell_type": "code",
   "execution_count": 32,
   "metadata": {},
   "outputs": [
    {
     "data": {
      "text/html": [
       "<div>\n",
       "<style scoped>\n",
       "    .dataframe tbody tr th:only-of-type {\n",
       "        vertical-align: middle;\n",
       "    }\n",
       "\n",
       "    .dataframe tbody tr th {\n",
       "        vertical-align: top;\n",
       "    }\n",
       "\n",
       "    .dataframe thead th {\n",
       "        text-align: right;\n",
       "    }\n",
       "</style>\n",
       "<table border=\"1\" class=\"dataframe\">\n",
       "  <thead>\n",
       "    <tr style=\"text-align: right;\">\n",
       "      <th></th>\n",
       "      <th>text</th>\n",
       "      <th>score</th>\n",
       "      <th>year</th>\n",
       "    </tr>\n",
       "  </thead>\n",
       "  <tbody>\n",
       "    <tr>\n",
       "      <th>0</th>\n",
       "      <td>Mr. Speaker, Mr. Vice President, Members of Co...</td>\n",
       "      <td>0.377289</td>\n",
       "      <td>2001</td>\n",
       "    </tr>\n",
       "    <tr>\n",
       "      <th>1</th>\n",
       "      <td>Thank you very much. Mr. Speaker, Vice Preside...</td>\n",
       "      <td>0.679070</td>\n",
       "      <td>2002</td>\n",
       "    </tr>\n",
       "    <tr>\n",
       "      <th>2</th>\n",
       "      <td>Mr. Speaker, Vice President Cheney, members of...</td>\n",
       "      <td>0.737762</td>\n",
       "      <td>2003</td>\n",
       "    </tr>\n",
       "    <tr>\n",
       "      <th>3</th>\n",
       "      <td>Mr. Speaker, Vice President Cheney, Members of...</td>\n",
       "      <td>0.610714</td>\n",
       "      <td>2004</td>\n",
       "    </tr>\n",
       "    <tr>\n",
       "      <th>4</th>\n",
       "      <td>Mr. Speaker, Vice President Cheney, members of...</td>\n",
       "      <td>0.655319</td>\n",
       "      <td>2005</td>\n",
       "    </tr>\n",
       "    <tr>\n",
       "      <th>5</th>\n",
       "      <td>Today our Nation lost a beloved, graceful, cou...</td>\n",
       "      <td>0.582707</td>\n",
       "      <td>2006</td>\n",
       "    </tr>\n",
       "    <tr>\n",
       "      <th>6</th>\n",
       "      <td>Thank you very much. And tonight, I have a hig...</td>\n",
       "      <td>0.433908</td>\n",
       "      <td>2007</td>\n",
       "    </tr>\n",
       "    <tr>\n",
       "      <th>7</th>\n",
       "      <td>Seven years have passed since I first stood be...</td>\n",
       "      <td>0.413613</td>\n",
       "      <td>2008</td>\n",
       "    </tr>\n",
       "  </tbody>\n",
       "</table>\n",
       "</div>"
      ],
      "text/plain": [
       "                                                text     score  year\n",
       "0  Mr. Speaker, Mr. Vice President, Members of Co...  0.377289  2001\n",
       "1  Thank you very much. Mr. Speaker, Vice Preside...  0.679070  2002\n",
       "2  Mr. Speaker, Vice President Cheney, members of...  0.737762  2003\n",
       "3  Mr. Speaker, Vice President Cheney, Members of...  0.610714  2004\n",
       "4  Mr. Speaker, Vice President Cheney, members of...  0.655319  2005\n",
       "5  Today our Nation lost a beloved, graceful, cou...  0.582707  2006\n",
       "6  Thank you very much. And tonight, I have a hig...  0.433908  2007\n",
       "7  Seven years have passed since I first stood be...  0.413613  2008"
      ]
     },
     "execution_count": 32,
     "metadata": {},
     "output_type": "execute_result"
    }
   ],
   "source": [
    "su_transcripts.head(10)"
   ]
  },
  {
   "cell_type": "code",
   "execution_count": 33,
   "metadata": {},
   "outputs": [
    {
     "data": {
      "image/png": "[encoded data removed]",
      "text/plain": [
       "<Figure size 432x288 with 1 Axes>"
      ]
     },
     "metadata": {
      "needs_background": "light"
     },
     "output_type": "display_data"
    }
   ],
   "source": [
    "# Make a half-decent time-series -like plot\n",
    "import seaborn as sns\n",
    "\n",
    "sns.lineplot(x=\"year\", y= \"score\", data=su_transcripts);"
   ]
  },
  {
   "cell_type": "markdown",
   "metadata": {},
   "source": [
    "Hmmm, 2003. Wasn't that the year of the 2nd Gulf War? The invasion of Iraq? \n",
    "It began in late March. The address was given in late January."
   ]
  },
  {
   "cell_type": "markdown",
   "metadata": {},
   "source": [
    "# Now a section on Sentiment Analysis "
   ]
  },
  {
   "cell_type": "code",
   "execution_count": 34,
   "metadata": {},
   "outputs": [
    {
     "name": "stdout",
     "output_type": "stream",
     "text": [
      "Requirement already satisfied: afinn in /Users/Person/anaconda3/envs/NLP/lib/python3.7/site-packages (0.1)\n",
      "Note: you may need to restart the kernel to use updated packages.\n"
     ]
    }
   ],
   "source": [
    "pip install afinn"
   ]
  },
  {
   "cell_type": "code",
   "execution_count": 35,
   "metadata": {},
   "outputs": [
    {
     "data": {
      "text/html": [
       "<div>\n",
       "<style scoped>\n",
       "    .dataframe tbody tr th:only-of-type {\n",
       "        vertical-align: middle;\n",
       "    }\n",
       "\n",
       "    .dataframe tbody tr th {\n",
       "        vertical-align: top;\n",
       "    }\n",
       "\n",
       "    .dataframe thead tr th {\n",
       "        text-align: left;\n",
       "    }\n",
       "\n",
       "    .dataframe thead tr:last-of-type th {\n",
       "        text-align: right;\n",
       "    }\n",
       "</style>\n",
       "<table border=\"1\" class=\"dataframe\">\n",
       "  <thead>\n",
       "    <tr>\n",
       "      <th></th>\n",
       "      <th colspan=\"8\" halign=\"left\">sentiment_score</th>\n",
       "    </tr>\n",
       "    <tr>\n",
       "      <th></th>\n",
       "      <th>count</th>\n",
       "      <th>mean</th>\n",
       "      <th>std</th>\n",
       "      <th>min</th>\n",
       "      <th>25%</th>\n",
       "      <th>50%</th>\n",
       "      <th>75%</th>\n",
       "      <th>max</th>\n",
       "    </tr>\n",
       "    <tr>\n",
       "      <th>year</th>\n",
       "      <th></th>\n",
       "      <th></th>\n",
       "      <th></th>\n",
       "      <th></th>\n",
       "      <th></th>\n",
       "      <th></th>\n",
       "      <th></th>\n",
       "      <th></th>\n",
       "    </tr>\n",
       "  </thead>\n",
       "  <tbody>\n",
       "    <tr>\n",
       "      <th>2001</th>\n",
       "      <td>1.0</td>\n",
       "      <td>368.0</td>\n",
       "      <td>NaN</td>\n",
       "      <td>368.0</td>\n",
       "      <td>368.0</td>\n",
       "      <td>368.0</td>\n",
       "      <td>368.0</td>\n",
       "      <td>368.0</td>\n",
       "    </tr>\n",
       "    <tr>\n",
       "      <th>2002</th>\n",
       "      <td>1.0</td>\n",
       "      <td>112.0</td>\n",
       "      <td>NaN</td>\n",
       "      <td>112.0</td>\n",
       "      <td>112.0</td>\n",
       "      <td>112.0</td>\n",
       "      <td>112.0</td>\n",
       "      <td>112.0</td>\n",
       "    </tr>\n",
       "    <tr>\n",
       "      <th>2003</th>\n",
       "      <td>1.0</td>\n",
       "      <td>-16.0</td>\n",
       "      <td>NaN</td>\n",
       "      <td>-16.0</td>\n",
       "      <td>-16.0</td>\n",
       "      <td>-16.0</td>\n",
       "      <td>-16.0</td>\n",
       "      <td>-16.0</td>\n",
       "    </tr>\n",
       "    <tr>\n",
       "      <th>2004</th>\n",
       "      <td>1.0</td>\n",
       "      <td>174.0</td>\n",
       "      <td>NaN</td>\n",
       "      <td>174.0</td>\n",
       "      <td>174.0</td>\n",
       "      <td>174.0</td>\n",
       "      <td>174.0</td>\n",
       "      <td>174.0</td>\n",
       "    </tr>\n",
       "    <tr>\n",
       "      <th>2005</th>\n",
       "      <td>1.0</td>\n",
       "      <td>293.0</td>\n",
       "      <td>NaN</td>\n",
       "      <td>293.0</td>\n",
       "      <td>293.0</td>\n",
       "      <td>293.0</td>\n",
       "      <td>293.0</td>\n",
       "      <td>293.0</td>\n",
       "    </tr>\n",
       "    <tr>\n",
       "      <th>2006</th>\n",
       "      <td>1.0</td>\n",
       "      <td>256.0</td>\n",
       "      <td>NaN</td>\n",
       "      <td>256.0</td>\n",
       "      <td>256.0</td>\n",
       "      <td>256.0</td>\n",
       "      <td>256.0</td>\n",
       "      <td>256.0</td>\n",
       "    </tr>\n",
       "    <tr>\n",
       "      <th>2007</th>\n",
       "      <td>1.0</td>\n",
       "      <td>315.0</td>\n",
       "      <td>NaN</td>\n",
       "      <td>315.0</td>\n",
       "      <td>315.0</td>\n",
       "      <td>315.0</td>\n",
       "      <td>315.0</td>\n",
       "      <td>315.0</td>\n",
       "    </tr>\n",
       "    <tr>\n",
       "      <th>2008</th>\n",
       "      <td>1.0</td>\n",
       "      <td>488.0</td>\n",
       "      <td>NaN</td>\n",
       "      <td>488.0</td>\n",
       "      <td>488.0</td>\n",
       "      <td>488.0</td>\n",
       "      <td>488.0</td>\n",
       "      <td>488.0</td>\n",
       "    </tr>\n",
       "  </tbody>\n",
       "</table>\n",
       "</div>"
      ],
      "text/plain": [
       "     sentiment_score                                              \n",
       "               count   mean std    min    25%    50%    75%    max\n",
       "year                                                              \n",
       "2001             1.0  368.0 NaN  368.0  368.0  368.0  368.0  368.0\n",
       "2002             1.0  112.0 NaN  112.0  112.0  112.0  112.0  112.0\n",
       "2003             1.0  -16.0 NaN  -16.0  -16.0  -16.0  -16.0  -16.0\n",
       "2004             1.0  174.0 NaN  174.0  174.0  174.0  174.0  174.0\n",
       "2005             1.0  293.0 NaN  293.0  293.0  293.0  293.0  293.0\n",
       "2006             1.0  256.0 NaN  256.0  256.0  256.0  256.0  256.0\n",
       "2007             1.0  315.0 NaN  315.0  315.0  315.0  315.0  315.0\n",
       "2008             1.0  488.0 NaN  488.0  488.0  488.0  488.0  488.0"
      ]
     },
     "execution_count": 35,
     "metadata": {},
     "output_type": "execute_result"
    }
   ],
   "source": [
    "# initialize afinn sentiment analyzer\n",
    "from afinn import Afinn\n",
    "af = Afinn()\n",
    "\n",
    "# compute sentiment scores (polarity) and labels\n",
    "sentiment_scores = [af.score(article) for article in su_transcripts['text']]\n",
    "sentiment_category = ['positive' if score > 0 \n",
    "                          else 'negative' if score < 0 \n",
    "                              else 'neutral' \n",
    "                                  for score in sentiment_scores]\n",
    " \n",
    "# sentiment statistics per year\n",
    "df = pd.DataFrame([list(su_transcripts['year']), sentiment_scores, sentiment_category]).T\n",
    "df.columns = ['year', 'sentiment_score', 'sentiment_category']\n",
    "df['sentiment_score'] = df.sentiment_score.astype('float')\n",
    "df.groupby(by=['year']).describe()"
   ]
  },
  {
   "cell_type": "code",
   "execution_count": 36,
   "metadata": {},
   "outputs": [],
   "source": [
    "# Interpret the results\n",
    "\n",
    "# help(Afinn.score)\n",
    "\n",
    "# What we see is that 2003 stands far apart from other years with regards\n",
    "#  to the presence of negative language."
   ]
  },
  {
   "cell_type": "code",
   "execution_count": 37,
   "metadata": {},
   "outputs": [
    {
     "name": "stderr",
     "output_type": "stream",
     "text": [
      "/Users/Person/anaconda3/envs/NLP/lib/python3.7/site-packages/seaborn/categorical.py:3666: UserWarning: The `factorplot` function has been renamed to `catplot`. The original name will be removed in a future release. Please update your code. Note that the default `kind` in `factorplot` (`'point'`) has changed `'strip'` in `catplot`.\n",
      "  warnings.warn(msg)\n"
     ]
    },
    {
     "data": {
      "image/png": "[encoded data removed]",
      "text/plain": [
       "<Figure size 467.5x360 with 1 Axes>"
      ]
     },
     "metadata": {
      "needs_background": "light"
     },
     "output_type": "display_data"
    }
   ],
   "source": [
    "fc = sns.factorplot(x=\"year\", hue=\"sentiment_category\", \n",
    "                    data=df, kind=\"count\", \n",
    "                    palette={\"negative\": \"#FE2020\", \n",
    "                             \"positive\": \"#BADD07\", \n",
    "                             \"neutral\": \"#68BFF5\"})"
   ]
  },
  {
   "cell_type": "code",
   "execution_count": 38,
   "metadata": {},
   "outputs": [
    {
     "name": "stdout",
     "output_type": "stream",
     "text": [
      "Requirement already satisfied: TextBlob in /Users/Person/anaconda3/envs/NLP/lib/python3.7/site-packages (0.15.3)\n",
      "Requirement already satisfied: nltk>=3.1 in /Users/Person/anaconda3/envs/NLP/lib/python3.7/site-packages (from TextBlob) (3.4.5)\n",
      "Requirement already satisfied: six in /Users/Person/anaconda3/envs/NLP/lib/python3.7/site-packages (from nltk>=3.1->TextBlob) (1.12.0)\n",
      "Note: you may need to restart the kernel to use updated packages.\n"
     ]
    }
   ],
   "source": [
    "pip install TextBlob"
   ]
  },
  {
   "cell_type": "code",
   "execution_count": 39,
   "metadata": {},
   "outputs": [
    {
     "data": {
      "text/plain": [
       "0    Mr. Speaker, Mr. Vice President, Members of Co...\n",
       "1    Thank you very much. Mr. Speaker, Vice Preside...\n",
       "2    Mr. Speaker, Vice President Cheney, members of...\n",
       "3    Mr. Speaker, Vice President Cheney, Members of...\n",
       "4    Mr. Speaker, Vice President Cheney, members of...\n",
       "5    Today our Nation lost a beloved, graceful, cou...\n",
       "6    Thank you very much. And tonight, I have a hig...\n",
       "7    Seven years have passed since I first stood be...\n",
       "Name: text, dtype: object"
      ]
     },
     "execution_count": 39,
     "metadata": {},
     "output_type": "execute_result"
    }
   ],
   "source": [
    "su_transcripts2['text']"
   ]
  },
  {
   "cell_type": "code",
   "execution_count": 87,
   "metadata": {},
   "outputs": [
    {
     "data": {
      "text/html": [
       "<div>\n",
       "<style scoped>\n",
       "    .dataframe tbody tr th:only-of-type {\n",
       "        vertical-align: middle;\n",
       "    }\n",
       "\n",
       "    .dataframe tbody tr th {\n",
       "        vertical-align: top;\n",
       "    }\n",
       "\n",
       "    .dataframe thead th {\n",
       "        text-align: right;\n",
       "    }\n",
       "</style>\n",
       "<table border=\"1\" class=\"dataframe\">\n",
       "  <thead>\n",
       "    <tr style=\"text-align: right;\">\n",
       "      <th></th>\n",
       "      <th>text</th>\n",
       "      <th>year</th>\n",
       "    </tr>\n",
       "  </thead>\n",
       "  <tbody>\n",
       "    <tr>\n",
       "      <th>0</th>\n",
       "      <td>Mr. Speaker, Mr. Vice President, Members of Co...</td>\n",
       "      <td>2001</td>\n",
       "    </tr>\n",
       "    <tr>\n",
       "      <th>1</th>\n",
       "      <td>Thank you very much. Mr. Speaker, Vice Preside...</td>\n",
       "      <td>2002</td>\n",
       "    </tr>\n",
       "    <tr>\n",
       "      <th>2</th>\n",
       "      <td>Mr. Speaker, Vice President Cheney, members of...</td>\n",
       "      <td>2003</td>\n",
       "    </tr>\n",
       "    <tr>\n",
       "      <th>3</th>\n",
       "      <td>Mr. Speaker, Vice President Cheney, Members of...</td>\n",
       "      <td>2004</td>\n",
       "    </tr>\n",
       "    <tr>\n",
       "      <th>4</th>\n",
       "      <td>Mr. Speaker, Vice President Cheney, members of...</td>\n",
       "      <td>2005</td>\n",
       "    </tr>\n",
       "  </tbody>\n",
       "</table>\n",
       "</div>"
      ],
      "text/plain": [
       "                                                text  year\n",
       "0  Mr. Speaker, Mr. Vice President, Members of Co...  2001\n",
       "1  Thank you very much. Mr. Speaker, Vice Preside...  2002\n",
       "2  Mr. Speaker, Vice President Cheney, members of...  2003\n",
       "3  Mr. Speaker, Vice President Cheney, Members of...  2004\n",
       "4  Mr. Speaker, Vice President Cheney, members of...  2005"
      ]
     },
     "execution_count": 87,
     "metadata": {},
     "output_type": "execute_result"
    }
   ],
   "source": [
    "su_transcripts2.head()"
   ]
  },
  {
   "cell_type": "code",
   "execution_count": 63,
   "metadata": {},
   "outputs": [
    {
     "data": {
      "text/plain": [
       "<bound method IndexOpsMixin.value_counts of 0    Mr. Speaker, Mr. Vice President, Members of Co...\n",
       "1    Thank you very much. Mr. Speaker, Vice Preside...\n",
       "2    Mr. Speaker, Vice President Cheney, members of...\n",
       "3    Mr. Speaker, Vice President Cheney, Members of...\n",
       "4    Mr. Speaker, Vice President Cheney, members of...\n",
       "5    Today our Nation lost a beloved, graceful, cou...\n",
       "6    Thank you very much. And tonight, I have a hig...\n",
       "7    Seven years have passed since I first stood be...\n",
       "Name: text, dtype: object>"
      ]
     },
     "execution_count": 63,
     "metadata": {},
     "output_type": "execute_result"
    }
   ],
   "source": [
    "su_transcripts2['text'].value_counts"
   ]
  },
  {
   "cell_type": "code",
   "execution_count": 88,
   "metadata": {},
   "outputs": [
    {
     "data": {
      "text/html": [
       "<div>\n",
       "<style scoped>\n",
       "    .dataframe tbody tr th:only-of-type {\n",
       "        vertical-align: middle;\n",
       "    }\n",
       "\n",
       "    .dataframe tbody tr th {\n",
       "        vertical-align: top;\n",
       "    }\n",
       "\n",
       "    .dataframe thead th {\n",
       "        text-align: right;\n",
       "    }\n",
       "</style>\n",
       "<table border=\"1\" class=\"dataframe\">\n",
       "  <thead>\n",
       "    <tr style=\"text-align: right;\">\n",
       "      <th></th>\n",
       "      <th>text</th>\n",
       "      <th>tag</th>\n",
       "    </tr>\n",
       "  </thead>\n",
       "  <tbody>\n",
       "    <tr>\n",
       "      <th>0</th>\n",
       "      <td>&amp;gt;&lt;i&gt;which leads me to say why are you using...</td>\n",
       "      <td>coldtea</td>\n",
       "    </tr>\n",
       "    <tr>\n",
       "      <th>1</th>\n",
       "      <td>&amp;#62; If the application becomes successful yo...</td>\n",
       "      <td>eru</td>\n",
       "    </tr>\n",
       "    <tr>\n",
       "      <th>2</th>\n",
       "      <td>Borland WebBuilder.</td>\n",
       "      <td>jacquesm</td>\n",
       "    </tr>\n",
       "    <tr>\n",
       "      <th>3</th>\n",
       "      <td>Thanks I will look into Pamela Smith&amp;#x27;s wo...</td>\n",
       "      <td>anigbrowl</td>\n",
       "    </tr>\n",
       "    <tr>\n",
       "      <th>4</th>\n",
       "      <td>The article mentions infants who are at greate...</td>\n",
       "      <td>DanBC</td>\n",
       "    </tr>\n",
       "  </tbody>\n",
       "</table>\n",
       "</div>"
      ],
      "text/plain": [
       "                                                text        tag\n",
       "0  &gt;<i>which leads me to say why are you using...    coldtea\n",
       "1  &#62; If the application becomes successful yo...        eru\n",
       "2                                Borland WebBuilder.   jacquesm\n",
       "3  Thanks I will look into Pamela Smith&#x27;s wo...  anigbrowl\n",
       "4  The article mentions infants who are at greate...      DanBC"
      ]
     },
     "execution_count": 88,
     "metadata": {},
     "output_type": "execute_result"
    }
   ],
   "source": [
    "comments.head()"
   ]
  },
  {
   "cell_type": "code",
   "execution_count": 72,
   "metadata": {},
   "outputs": [
    {
     "ename": "AttributeError",
     "evalue": "'function' object has no attribute 'isna'",
     "output_type": "error",
     "traceback": [
      "\u001b[0;31m---------------------------------------------------------------------------\u001b[0m",
      "\u001b[0;31mAttributeError\u001b[0m                            Traceback (most recent call last)",
      "\u001b[0;32m~/myRepos/Build_Unit4/transcripts.py\u001b[0m in \u001b[0;36m<module>\u001b[0;34m\u001b[0m\n\u001b[1;32m      1\u001b[0m \u001b[0;31m#comments = comments.dropna()\u001b[0m\u001b[0;34m\u001b[0m\u001b[0;34m\u001b[0m\u001b[0m\n\u001b[0;32m----> 2\u001b[0;31m \u001b[0mcomments\u001b[0m\u001b[0;34m.\u001b[0m\u001b[0misna\u001b[0m\u001b[0;34m.\u001b[0m\u001b[0msum\u001b[0m\u001b[0;34m(\u001b[0m\u001b[0;34m)\u001b[0m\u001b[0;34m\u001b[0m\u001b[0m\n\u001b[0m",
      "\u001b[0;31mAttributeError\u001b[0m: 'function' object has no attribute 'isna'"
     ]
    }
   ],
   "source": [
    "#comments = comments.dropna()\n",
    "comments.isna.sum()"
   ]
  },
  {
   "cell_type": "code",
   "execution_count": 57,
   "metadata": {},
   "outputs": [
    {
     "ename": "TypeError",
     "evalue": "The `text` argument passed to `__init__(text)` must be a string, not <class 'float'>",
     "output_type": "error",
     "traceback": [
      "\u001b[0;31m---------------------------------------------------------------------------\u001b[0m",
      "\u001b[0;31mTypeError\u001b[0m                                 Traceback (most recent call last)",
      "\u001b[0;32m~/myRepos/Build_Unit4/transcripts.py\u001b[0m in \u001b[0;36m<module>\u001b[0;34m\u001b[0m\n\u001b[1;32m      4\u001b[0m \u001b[0;34m\u001b[0m\u001b[0m\n\u001b[1;32m      5\u001b[0m \u001b[0;31m# compute sentiment scores (polarity) and labels\u001b[0m\u001b[0;34m\u001b[0m\u001b[0;34m\u001b[0m\u001b[0m\n\u001b[0;32m----> 6\u001b[0;31m \u001b[0msentiment_scores_tb\u001b[0m \u001b[0;34m=\u001b[0m \u001b[0;34m[\u001b[0m\u001b[0mround\u001b[0m\u001b[0;34m(\u001b[0m\u001b[0mTextBlob\u001b[0m\u001b[0;34m(\u001b[0m\u001b[0marticle\u001b[0m\u001b[0;34m)\u001b[0m\u001b[0;34m.\u001b[0m\u001b[0msentiment\u001b[0m\u001b[0;34m.\u001b[0m\u001b[0mpolarity\u001b[0m\u001b[0;34m,\u001b[0m \u001b[0;36m3\u001b[0m\u001b[0;34m)\u001b[0m \u001b[0;32mfor\u001b[0m \u001b[0marticle\u001b[0m \u001b[0;32min\u001b[0m \u001b[0mcomments\u001b[0m\u001b[0;34m[\u001b[0m\u001b[0;34m'text'\u001b[0m\u001b[0;34m]\u001b[0m\u001b[0;34m]\u001b[0m\u001b[0;34m\u001b[0m\u001b[0m\n\u001b[0m\u001b[1;32m      7\u001b[0m sentiment_category_tb = ['positive' if score > 0 \n\u001b[1;32m      8\u001b[0m                              \u001b[0;32melse\u001b[0m \u001b[0;34m'negative'\u001b[0m \u001b[0;32mif\u001b[0m \u001b[0mscore\u001b[0m \u001b[0;34m<\u001b[0m \u001b[0;36m0\u001b[0m\u001b[0;34m\u001b[0m\u001b[0m\n",
      "\u001b[0;32m~/myRepos/Build_Unit4/transcripts.py\u001b[0m in \u001b[0;36m<listcomp>\u001b[0;34m(.0)\u001b[0m\n\u001b[1;32m      4\u001b[0m \u001b[0;34m\u001b[0m\u001b[0m\n\u001b[1;32m      5\u001b[0m \u001b[0;31m# compute sentiment scores (polarity) and labels\u001b[0m\u001b[0;34m\u001b[0m\u001b[0;34m\u001b[0m\u001b[0m\n\u001b[0;32m----> 6\u001b[0;31m \u001b[0msentiment_scores_tb\u001b[0m \u001b[0;34m=\u001b[0m \u001b[0;34m[\u001b[0m\u001b[0mround\u001b[0m\u001b[0;34m(\u001b[0m\u001b[0mTextBlob\u001b[0m\u001b[0;34m(\u001b[0m\u001b[0marticle\u001b[0m\u001b[0;34m)\u001b[0m\u001b[0;34m.\u001b[0m\u001b[0msentiment\u001b[0m\u001b[0;34m.\u001b[0m\u001b[0mpolarity\u001b[0m\u001b[0;34m,\u001b[0m \u001b[0;36m3\u001b[0m\u001b[0;34m)\u001b[0m \u001b[0;32mfor\u001b[0m \u001b[0marticle\u001b[0m \u001b[0;32min\u001b[0m \u001b[0mcomments\u001b[0m\u001b[0;34m[\u001b[0m\u001b[0;34m'text'\u001b[0m\u001b[0;34m]\u001b[0m\u001b[0;34m]\u001b[0m\u001b[0;34m\u001b[0m\u001b[0m\n\u001b[0m\u001b[1;32m      7\u001b[0m sentiment_category_tb = ['positive' if score > 0 \n\u001b[1;32m      8\u001b[0m                              \u001b[0;32melse\u001b[0m \u001b[0;34m'negative'\u001b[0m \u001b[0;32mif\u001b[0m \u001b[0mscore\u001b[0m \u001b[0;34m<\u001b[0m \u001b[0;36m0\u001b[0m\u001b[0;34m\u001b[0m\u001b[0m\n",
      "\u001b[0;32m~/anaconda3/envs/NLP/lib/python3.7/site-packages/textblob/blob.py\u001b[0m in \u001b[0;36m__init__\u001b[0;34m(self, text, tokenizer, pos_tagger, np_extractor, analyzer, parser, classifier, clean_html)\u001b[0m\n\u001b[1;32m    368\u001b[0m         \u001b[0;32mif\u001b[0m \u001b[0;32mnot\u001b[0m \u001b[0misinstance\u001b[0m\u001b[0;34m(\u001b[0m\u001b[0mtext\u001b[0m\u001b[0;34m,\u001b[0m \u001b[0mbasestring\u001b[0m\u001b[0;34m)\u001b[0m\u001b[0;34m:\u001b[0m\u001b[0;34m\u001b[0m\u001b[0m\n\u001b[1;32m    369\u001b[0m             raise TypeError('The `text` argument passed to `__init__(text)` '\n\u001b[0;32m--> 370\u001b[0;31m                             'must be a string, not {0}'.format(type(text)))\n\u001b[0m\u001b[1;32m    371\u001b[0m         \u001b[0;32mif\u001b[0m \u001b[0mclean_html\u001b[0m\u001b[0;34m:\u001b[0m\u001b[0;34m\u001b[0m\u001b[0m\n\u001b[1;32m    372\u001b[0m             raise NotImplementedError(\"clean_html has been deprecated. \"\n",
      "\u001b[0;31mTypeError\u001b[0m: The `text` argument passed to `__init__(text)` must be a string, not <class 'float'>"
     ]
    }
   ],
   "source": [
    "# Now, using TextBlob\n",
    "\n",
    "from textblob import TextBlob\n",
    "\n",
    "# compute sentiment scores (polarity) and labels\n",
    "sentiment_scores_tb = [round(TextBlob(article).sentiment.polarity, 3) for article in comments['text']]\n",
    "sentiment_category_tb = ['positive' if score > 0 \n",
    "                             else 'negative' if score < 0 \n",
    "                                 else 'neutral' \n",
    "                                     for score in sentiment_scores_tb]\n",
    "\n",
    "# sentiment statistics per category\n",
    "df = pd.DataFrame([list(su_transcripts['year']), sentiment_scores_tb, sentiment_category_tb]).T\n",
    "df.columns = ['year', 'sentiment_score', 'sentiment_category']\n",
    "df['sentiment_score'] = df.sentiment_score.astype('float')\n",
    "df.groupby(by=['year']).describe()"
   ]
  },
  {
   "cell_type": "code",
   "execution_count": 41,
   "metadata": {},
   "outputs": [
    {
     "data": {
      "text/html": [
       "<div>\n",
       "<style scoped>\n",
       "    .dataframe tbody tr th:only-of-type {\n",
       "        vertical-align: middle;\n",
       "    }\n",
       "\n",
       "    .dataframe tbody tr th {\n",
       "        vertical-align: top;\n",
       "    }\n",
       "\n",
       "    .dataframe thead th {\n",
       "        text-align: right;\n",
       "    }\n",
       "</style>\n",
       "<table border=\"1\" class=\"dataframe\">\n",
       "  <thead>\n",
       "    <tr style=\"text-align: right;\">\n",
       "      <th></th>\n",
       "      <th>text</th>\n",
       "      <th>year</th>\n",
       "    </tr>\n",
       "  </thead>\n",
       "  <tbody>\n",
       "    <tr>\n",
       "      <th>0</th>\n",
       "      <td>Mr. Speaker, Mr. Vice President, Members of Co...</td>\n",
       "      <td>2001</td>\n",
       "    </tr>\n",
       "    <tr>\n",
       "      <th>1</th>\n",
       "      <td>Thank you very much. Mr. Speaker, Vice Preside...</td>\n",
       "      <td>2002</td>\n",
       "    </tr>\n",
       "    <tr>\n",
       "      <th>2</th>\n",
       "      <td>Mr. Speaker, Vice President Cheney, members of...</td>\n",
       "      <td>2003</td>\n",
       "    </tr>\n",
       "    <tr>\n",
       "      <th>3</th>\n",
       "      <td>Mr. Speaker, Vice President Cheney, Members of...</td>\n",
       "      <td>2004</td>\n",
       "    </tr>\n",
       "    <tr>\n",
       "      <th>4</th>\n",
       "      <td>Mr. Speaker, Vice President Cheney, members of...</td>\n",
       "      <td>2005</td>\n",
       "    </tr>\n",
       "    <tr>\n",
       "      <th>5</th>\n",
       "      <td>Today our Nation lost a beloved, graceful, cou...</td>\n",
       "      <td>2006</td>\n",
       "    </tr>\n",
       "    <tr>\n",
       "      <th>6</th>\n",
       "      <td>Thank you very much. And tonight, I have a hig...</td>\n",
       "      <td>2007</td>\n",
       "    </tr>\n",
       "    <tr>\n",
       "      <th>7</th>\n",
       "      <td>Seven years have passed since I first stood be...</td>\n",
       "      <td>2008</td>\n",
       "    </tr>\n",
       "  </tbody>\n",
       "</table>\n",
       "</div>"
      ],
      "text/plain": [
       "                                                text  year\n",
       "0  Mr. Speaker, Mr. Vice President, Members of Co...  2001\n",
       "1  Thank you very much. Mr. Speaker, Vice Preside...  2002\n",
       "2  Mr. Speaker, Vice President Cheney, members of...  2003\n",
       "3  Mr. Speaker, Vice President Cheney, Members of...  2004\n",
       "4  Mr. Speaker, Vice President Cheney, members of...  2005\n",
       "5  Today our Nation lost a beloved, graceful, cou...  2006\n",
       "6  Thank you very much. And tonight, I have a hig...  2007\n",
       "7  Seven years have passed since I first stood be...  2008"
      ]
     },
     "execution_count": 41,
     "metadata": {},
     "output_type": "execute_result"
    }
   ],
   "source": [
    "su_transcripts2['year'] = ['2001','2002','2003','2004',\n",
    "                          '2005','2006','2007','2008']\n",
    "\n",
    "su_transcripts2"
   ]
  },
  {
   "cell_type": "code",
   "execution_count": 52,
   "metadata": {},
   "outputs": [
    {
     "name": "stdout",
     "output_type": "stream",
     "text": [
      "object object\n"
     ]
    }
   ],
   "source": [
    "assert su_transcripts2.text.dtype == comments.text.dtype\n",
    "print(comments.text.dtype, su_transcripts2.text.dtype)"
   ]
  },
  {
   "cell_type": "code",
   "execution_count": null,
   "metadata": {},
   "outputs": [],
   "source": []
  },
  {
   "cell_type": "code",
   "execution_count": 56,
   "metadata": {},
   "outputs": [
    {
     "ename": "TypeError",
     "evalue": "expected string or bytes-like object",
     "output_type": "error",
     "traceback": [
      "\u001b[0;31m---------------------------------------------------------------------------\u001b[0m",
      "\u001b[0;31mTypeError\u001b[0m                                 Traceback (most recent call last)",
      "\u001b[0;32m~/myRepos/Build_Unit4/transcripts.py\u001b[0m in \u001b[0;36m<module>\u001b[0;34m\u001b[0m\n\u001b[1;32m      6\u001b[0m \u001b[0;34m\u001b[0m\u001b[0m\n\u001b[1;32m      7\u001b[0m \u001b[0;32mfor\u001b[0m \u001b[0mi\u001b[0m \u001b[0;32min\u001b[0m \u001b[0mcomments\u001b[0m\u001b[0;34m.\u001b[0m\u001b[0mtext\u001b[0m\u001b[0;34m:\u001b[0m\u001b[0;34m\u001b[0m\u001b[0m\n\u001b[0;32m----> 8\u001b[0;31m     \u001b[0mlist_sentences\u001b[0m \u001b[0;34m=\u001b[0m \u001b[0mnltk\u001b[0m\u001b[0;34m.\u001b[0m\u001b[0mtokenize\u001b[0m\u001b[0;34m.\u001b[0m\u001b[0msent_tokenize\u001b[0m\u001b[0;34m(\u001b[0m\u001b[0mi\u001b[0m\u001b[0;34m)\u001b[0m\u001b[0;34m\u001b[0m\u001b[0m\n\u001b[0m\u001b[1;32m      9\u001b[0m     \u001b[0msentences\u001b[0m\u001b[0;34m.\u001b[0m\u001b[0mappend\u001b[0m\u001b[0;34m(\u001b[0m\u001b[0mlist_sentences\u001b[0m\u001b[0;34m)\u001b[0m\u001b[0;34m\u001b[0m\u001b[0m\n\u001b[1;32m     10\u001b[0m     \u001b[0;32mfor\u001b[0m \u001b[0mi\u001b[0m \u001b[0;32min\u001b[0m \u001b[0mlist_sentences\u001b[0m\u001b[0;34m:\u001b[0m\u001b[0;34m\u001b[0m\u001b[0m\n",
      "\u001b[0;32m~/anaconda3/envs/NLP/lib/python3.7/site-packages/nltk/tokenize/__init__.py\u001b[0m in \u001b[0;36msent_tokenize\u001b[0;34m(text, language)\u001b[0m\n\u001b[1;32m    104\u001b[0m     \"\"\"\n\u001b[1;32m    105\u001b[0m     \u001b[0mtokenizer\u001b[0m \u001b[0;34m=\u001b[0m \u001b[0mload\u001b[0m\u001b[0;34m(\u001b[0m\u001b[0;34m'tokenizers/punkt/{0}.pickle'\u001b[0m\u001b[0;34m.\u001b[0m\u001b[0mformat\u001b[0m\u001b[0;34m(\u001b[0m\u001b[0mlanguage\u001b[0m\u001b[0;34m)\u001b[0m\u001b[0;34m)\u001b[0m\u001b[0;34m\u001b[0m\u001b[0m\n\u001b[0;32m--> 106\u001b[0;31m     \u001b[0;32mreturn\u001b[0m \u001b[0mtokenizer\u001b[0m\u001b[0;34m.\u001b[0m\u001b[0mtokenize\u001b[0m\u001b[0;34m(\u001b[0m\u001b[0mtext\u001b[0m\u001b[0;34m)\u001b[0m\u001b[0;34m\u001b[0m\u001b[0m\n\u001b[0m\u001b[1;32m    107\u001b[0m \u001b[0;34m\u001b[0m\u001b[0m\n\u001b[1;32m    108\u001b[0m \u001b[0;34m\u001b[0m\u001b[0m\n",
      "\u001b[0;32m~/anaconda3/envs/NLP/lib/python3.7/site-packages/nltk/tokenize/punkt.py\u001b[0m in \u001b[0;36mtokenize\u001b[0;34m(self, text, realign_boundaries)\u001b[0m\n\u001b[1;32m   1275\u001b[0m         \u001b[0mGiven\u001b[0m \u001b[0ma\u001b[0m \u001b[0mtext\u001b[0m\u001b[0;34m,\u001b[0m \u001b[0mreturns\u001b[0m \u001b[0ma\u001b[0m \u001b[0mlist\u001b[0m \u001b[0mof\u001b[0m \u001b[0mthe\u001b[0m \u001b[0msentences\u001b[0m \u001b[0;32min\u001b[0m \u001b[0mthat\u001b[0m \u001b[0mtext\u001b[0m\u001b[0;34m.\u001b[0m\u001b[0;34m\u001b[0m\u001b[0m\n\u001b[1;32m   1276\u001b[0m         \"\"\"\n\u001b[0;32m-> 1277\u001b[0;31m         \u001b[0;32mreturn\u001b[0m \u001b[0mlist\u001b[0m\u001b[0;34m(\u001b[0m\u001b[0mself\u001b[0m\u001b[0;34m.\u001b[0m\u001b[0msentences_from_text\u001b[0m\u001b[0;34m(\u001b[0m\u001b[0mtext\u001b[0m\u001b[0;34m,\u001b[0m \u001b[0mrealign_boundaries\u001b[0m\u001b[0;34m)\u001b[0m\u001b[0;34m)\u001b[0m\u001b[0;34m\u001b[0m\u001b[0m\n\u001b[0m\u001b[1;32m   1278\u001b[0m \u001b[0;34m\u001b[0m\u001b[0m\n\u001b[1;32m   1279\u001b[0m     \u001b[0;32mdef\u001b[0m \u001b[0mdebug_decisions\u001b[0m\u001b[0;34m(\u001b[0m\u001b[0mself\u001b[0m\u001b[0;34m,\u001b[0m \u001b[0mtext\u001b[0m\u001b[0;34m)\u001b[0m\u001b[0;34m:\u001b[0m\u001b[0;34m\u001b[0m\u001b[0m\n",
      "\u001b[0;32m~/anaconda3/envs/NLP/lib/python3.7/site-packages/nltk/tokenize/punkt.py\u001b[0m in \u001b[0;36msentences_from_text\u001b[0;34m(self, text, realign_boundaries)\u001b[0m\n\u001b[1;32m   1329\u001b[0m         \u001b[0mfollows\u001b[0m \u001b[0mthe\u001b[0m \u001b[0mperiod\u001b[0m\u001b[0;34m.\u001b[0m\u001b[0;34m\u001b[0m\u001b[0m\n\u001b[1;32m   1330\u001b[0m         \"\"\"\n\u001b[0;32m-> 1331\u001b[0;31m         \u001b[0;32mreturn\u001b[0m \u001b[0;34m[\u001b[0m\u001b[0mtext\u001b[0m\u001b[0;34m[\u001b[0m\u001b[0ms\u001b[0m\u001b[0;34m:\u001b[0m\u001b[0me\u001b[0m\u001b[0;34m]\u001b[0m \u001b[0;32mfor\u001b[0m \u001b[0ms\u001b[0m\u001b[0;34m,\u001b[0m \u001b[0me\u001b[0m \u001b[0;32min\u001b[0m \u001b[0mself\u001b[0m\u001b[0;34m.\u001b[0m\u001b[0mspan_tokenize\u001b[0m\u001b[0;34m(\u001b[0m\u001b[0mtext\u001b[0m\u001b[0;34m,\u001b[0m \u001b[0mrealign_boundaries\u001b[0m\u001b[0;34m)\u001b[0m\u001b[0;34m]\u001b[0m\u001b[0;34m\u001b[0m\u001b[0m\n\u001b[0m\u001b[1;32m   1332\u001b[0m \u001b[0;34m\u001b[0m\u001b[0m\n\u001b[1;32m   1333\u001b[0m     \u001b[0;32mdef\u001b[0m \u001b[0m_slices_from_text\u001b[0m\u001b[0;34m(\u001b[0m\u001b[0mself\u001b[0m\u001b[0;34m,\u001b[0m \u001b[0mtext\u001b[0m\u001b[0;34m)\u001b[0m\u001b[0;34m:\u001b[0m\u001b[0;34m\u001b[0m\u001b[0m\n",
      "\u001b[0;32m~/anaconda3/envs/NLP/lib/python3.7/site-packages/nltk/tokenize/punkt.py\u001b[0m in \u001b[0;36m<listcomp>\u001b[0;34m(.0)\u001b[0m\n\u001b[1;32m   1329\u001b[0m         \u001b[0mfollows\u001b[0m \u001b[0mthe\u001b[0m \u001b[0mperiod\u001b[0m\u001b[0;34m.\u001b[0m\u001b[0;34m\u001b[0m\u001b[0m\n\u001b[1;32m   1330\u001b[0m         \"\"\"\n\u001b[0;32m-> 1331\u001b[0;31m         \u001b[0;32mreturn\u001b[0m \u001b[0;34m[\u001b[0m\u001b[0mtext\u001b[0m\u001b[0;34m[\u001b[0m\u001b[0ms\u001b[0m\u001b[0;34m:\u001b[0m\u001b[0me\u001b[0m\u001b[0;34m]\u001b[0m \u001b[0;32mfor\u001b[0m \u001b[0ms\u001b[0m\u001b[0;34m,\u001b[0m \u001b[0me\u001b[0m \u001b[0;32min\u001b[0m \u001b[0mself\u001b[0m\u001b[0;34m.\u001b[0m\u001b[0mspan_tokenize\u001b[0m\u001b[0;34m(\u001b[0m\u001b[0mtext\u001b[0m\u001b[0;34m,\u001b[0m \u001b[0mrealign_boundaries\u001b[0m\u001b[0;34m)\u001b[0m\u001b[0;34m]\u001b[0m\u001b[0;34m\u001b[0m\u001b[0m\n\u001b[0m\u001b[1;32m   1332\u001b[0m \u001b[0;34m\u001b[0m\u001b[0m\n\u001b[1;32m   1333\u001b[0m     \u001b[0;32mdef\u001b[0m \u001b[0m_slices_from_text\u001b[0m\u001b[0;34m(\u001b[0m\u001b[0mself\u001b[0m\u001b[0;34m,\u001b[0m \u001b[0mtext\u001b[0m\u001b[0;34m)\u001b[0m\u001b[0;34m:\u001b[0m\u001b[0;34m\u001b[0m\u001b[0m\n",
      "\u001b[0;32m~/anaconda3/envs/NLP/lib/python3.7/site-packages/nltk/tokenize/punkt.py\u001b[0m in \u001b[0;36mspan_tokenize\u001b[0;34m(self, text, realign_boundaries)\u001b[0m\n\u001b[1;32m   1319\u001b[0m         \u001b[0;32mif\u001b[0m \u001b[0mrealign_boundaries\u001b[0m\u001b[0;34m:\u001b[0m\u001b[0;34m\u001b[0m\u001b[0m\n\u001b[1;32m   1320\u001b[0m             \u001b[0mslices\u001b[0m \u001b[0;34m=\u001b[0m \u001b[0mself\u001b[0m\u001b[0;34m.\u001b[0m\u001b[0m_realign_boundaries\u001b[0m\u001b[0;34m(\u001b[0m\u001b[0mtext\u001b[0m\u001b[0;34m,\u001b[0m \u001b[0mslices\u001b[0m\u001b[0;34m)\u001b[0m\u001b[0;34m\u001b[0m\u001b[0m\n\u001b[0;32m-> 1321\u001b[0;31m         \u001b[0;32mfor\u001b[0m \u001b[0msl\u001b[0m \u001b[0;32min\u001b[0m \u001b[0mslices\u001b[0m\u001b[0;34m:\u001b[0m\u001b[0;34m\u001b[0m\u001b[0m\n\u001b[0m\u001b[1;32m   1322\u001b[0m             \u001b[0;32myield\u001b[0m \u001b[0;34m(\u001b[0m\u001b[0msl\u001b[0m\u001b[0;34m.\u001b[0m\u001b[0mstart\u001b[0m\u001b[0;34m,\u001b[0m \u001b[0msl\u001b[0m\u001b[0;34m.\u001b[0m\u001b[0mstop\u001b[0m\u001b[0;34m)\u001b[0m\u001b[0;34m\u001b[0m\u001b[0m\n\u001b[1;32m   1323\u001b[0m \u001b[0;34m\u001b[0m\u001b[0m\n",
      "\u001b[0;32m~/anaconda3/envs/NLP/lib/python3.7/site-packages/nltk/tokenize/punkt.py\u001b[0m in \u001b[0;36m_realign_boundaries\u001b[0;34m(self, text, slices)\u001b[0m\n\u001b[1;32m   1360\u001b[0m         \"\"\"\n\u001b[1;32m   1361\u001b[0m         \u001b[0mrealign\u001b[0m \u001b[0;34m=\u001b[0m \u001b[0;36m0\u001b[0m\u001b[0;34m\u001b[0m\u001b[0m\n\u001b[0;32m-> 1362\u001b[0;31m         \u001b[0;32mfor\u001b[0m \u001b[0msl1\u001b[0m\u001b[0;34m,\u001b[0m \u001b[0msl2\u001b[0m \u001b[0;32min\u001b[0m \u001b[0m_pair_iter\u001b[0m\u001b[0;34m(\u001b[0m\u001b[0mslices\u001b[0m\u001b[0;34m)\u001b[0m\u001b[0;34m:\u001b[0m\u001b[0;34m\u001b[0m\u001b[0m\n\u001b[0m\u001b[1;32m   1363\u001b[0m             \u001b[0msl1\u001b[0m \u001b[0;34m=\u001b[0m \u001b[0mslice\u001b[0m\u001b[0;34m(\u001b[0m\u001b[0msl1\u001b[0m\u001b[0;34m.\u001b[0m\u001b[0mstart\u001b[0m \u001b[0;34m+\u001b[0m \u001b[0mrealign\u001b[0m\u001b[0;34m,\u001b[0m \u001b[0msl1\u001b[0m\u001b[0;34m.\u001b[0m\u001b[0mstop\u001b[0m\u001b[0;34m)\u001b[0m\u001b[0;34m\u001b[0m\u001b[0m\n\u001b[1;32m   1364\u001b[0m             \u001b[0;32mif\u001b[0m \u001b[0;32mnot\u001b[0m \u001b[0msl2\u001b[0m\u001b[0;34m:\u001b[0m\u001b[0;34m\u001b[0m\u001b[0m\n",
      "\u001b[0;32m~/anaconda3/envs/NLP/lib/python3.7/site-packages/nltk/tokenize/punkt.py\u001b[0m in \u001b[0;36m_pair_iter\u001b[0;34m(it)\u001b[0m\n\u001b[1;32m    316\u001b[0m     \u001b[0mit\u001b[0m \u001b[0;34m=\u001b[0m \u001b[0miter\u001b[0m\u001b[0;34m(\u001b[0m\u001b[0mit\u001b[0m\u001b[0;34m)\u001b[0m\u001b[0;34m\u001b[0m\u001b[0m\n\u001b[1;32m    317\u001b[0m     \u001b[0;32mtry\u001b[0m\u001b[0;34m:\u001b[0m\u001b[0;34m\u001b[0m\u001b[0m\n\u001b[0;32m--> 318\u001b[0;31m         \u001b[0mprev\u001b[0m \u001b[0;34m=\u001b[0m \u001b[0mnext\u001b[0m\u001b[0;34m(\u001b[0m\u001b[0mit\u001b[0m\u001b[0;34m)\u001b[0m\u001b[0;34m\u001b[0m\u001b[0m\n\u001b[0m\u001b[1;32m    319\u001b[0m     \u001b[0;32mexcept\u001b[0m \u001b[0mStopIteration\u001b[0m\u001b[0;34m:\u001b[0m\u001b[0;34m\u001b[0m\u001b[0m\n\u001b[1;32m    320\u001b[0m         \u001b[0;32mreturn\u001b[0m\u001b[0;34m\u001b[0m\u001b[0m\n",
      "\u001b[0;32m~/anaconda3/envs/NLP/lib/python3.7/site-packages/nltk/tokenize/punkt.py\u001b[0m in \u001b[0;36m_slices_from_text\u001b[0;34m(self, text)\u001b[0m\n\u001b[1;32m   1333\u001b[0m     \u001b[0;32mdef\u001b[0m \u001b[0m_slices_from_text\u001b[0m\u001b[0;34m(\u001b[0m\u001b[0mself\u001b[0m\u001b[0;34m,\u001b[0m \u001b[0mtext\u001b[0m\u001b[0;34m)\u001b[0m\u001b[0;34m:\u001b[0m\u001b[0;34m\u001b[0m\u001b[0m\n\u001b[1;32m   1334\u001b[0m         \u001b[0mlast_break\u001b[0m \u001b[0;34m=\u001b[0m \u001b[0;36m0\u001b[0m\u001b[0;34m\u001b[0m\u001b[0m\n\u001b[0;32m-> 1335\u001b[0;31m         \u001b[0;32mfor\u001b[0m \u001b[0mmatch\u001b[0m \u001b[0;32min\u001b[0m \u001b[0mself\u001b[0m\u001b[0;34m.\u001b[0m\u001b[0m_lang_vars\u001b[0m\u001b[0;34m.\u001b[0m\u001b[0mperiod_context_re\u001b[0m\u001b[0;34m(\u001b[0m\u001b[0;34m)\u001b[0m\u001b[0;34m.\u001b[0m\u001b[0mfinditer\u001b[0m\u001b[0;34m(\u001b[0m\u001b[0mtext\u001b[0m\u001b[0;34m)\u001b[0m\u001b[0;34m:\u001b[0m\u001b[0;34m\u001b[0m\u001b[0m\n\u001b[0m\u001b[1;32m   1336\u001b[0m             \u001b[0mcontext\u001b[0m \u001b[0;34m=\u001b[0m \u001b[0mmatch\u001b[0m\u001b[0;34m.\u001b[0m\u001b[0mgroup\u001b[0m\u001b[0;34m(\u001b[0m\u001b[0;34m)\u001b[0m \u001b[0;34m+\u001b[0m \u001b[0mmatch\u001b[0m\u001b[0;34m.\u001b[0m\u001b[0mgroup\u001b[0m\u001b[0;34m(\u001b[0m\u001b[0;34m'after_tok'\u001b[0m\u001b[0;34m)\u001b[0m\u001b[0;34m\u001b[0m\u001b[0m\n\u001b[1;32m   1337\u001b[0m             \u001b[0;32mif\u001b[0m \u001b[0mself\u001b[0m\u001b[0;34m.\u001b[0m\u001b[0mtext_contains_sentbreak\u001b[0m\u001b[0;34m(\u001b[0m\u001b[0mcontext\u001b[0m\u001b[0;34m)\u001b[0m\u001b[0;34m:\u001b[0m\u001b[0;34m\u001b[0m\u001b[0m\n",
      "\u001b[0;31mTypeError\u001b[0m: expected string or bytes-like object"
     ]
    }
   ],
   "source": [
    "sentences = []\n",
    "sentiment_scores = []\n",
    "sentiment_categories = []\n",
    "years = []\n",
    "year = 2001\n",
    "\n",
    "for i in comments.text:\n",
    "    list_sentences = nltk.tokenize.sent_tokenize(i)\n",
    "    sentences.append(list_sentences)\n",
    "    for i in list_sentences:\n",
    "        score = round(TextBlob(i).sentiment.polarity, 3)\n",
    "        sentiment_category = ('positive' if score > 0 \n",
    "                             else 'negative' if score < 0 \n",
    "                                 else 'neutral')\n",
    "        \n",
    "        years.append(year)\n",
    "        sentiment_scores.append(score)\n",
    "        sentiment_categories.append(sentiment_category)\n",
    "    year = year + 1"
   ]
  },
  {
   "cell_type": "code",
   "execution_count": 54,
   "metadata": {},
   "outputs": [
    {
     "data": {
      "text/html": [
       "<div>\n",
       "<style scoped>\n",
       "    .dataframe tbody tr th:only-of-type {\n",
       "        vertical-align: middle;\n",
       "    }\n",
       "\n",
       "    .dataframe tbody tr th {\n",
       "        vertical-align: top;\n",
       "    }\n",
       "\n",
       "    .dataframe thead tr th {\n",
       "        text-align: left;\n",
       "    }\n",
       "\n",
       "    .dataframe thead tr:last-of-type th {\n",
       "        text-align: right;\n",
       "    }\n",
       "</style>\n",
       "<table border=\"1\" class=\"dataframe\">\n",
       "  <thead>\n",
       "    <tr>\n",
       "      <th></th>\n",
       "      <th colspan=\"8\" halign=\"left\">sentiment_score</th>\n",
       "    </tr>\n",
       "    <tr>\n",
       "      <th></th>\n",
       "      <th>count</th>\n",
       "      <th>mean</th>\n",
       "      <th>std</th>\n",
       "      <th>min</th>\n",
       "      <th>25%</th>\n",
       "      <th>50%</th>\n",
       "      <th>75%</th>\n",
       "      <th>max</th>\n",
       "    </tr>\n",
       "    <tr>\n",
       "      <th>year</th>\n",
       "      <th></th>\n",
       "      <th></th>\n",
       "      <th></th>\n",
       "      <th></th>\n",
       "      <th></th>\n",
       "      <th></th>\n",
       "      <th></th>\n",
       "      <th></th>\n",
       "    </tr>\n",
       "  </thead>\n",
       "  <tbody>\n",
       "    <tr>\n",
       "      <th>2001</th>\n",
       "      <td>273.0</td>\n",
       "      <td>0.129802</td>\n",
       "      <td>0.262625</td>\n",
       "      <td>-1.000</td>\n",
       "      <td>0.0</td>\n",
       "      <td>0.000</td>\n",
       "      <td>0.25800</td>\n",
       "      <td>1.0</td>\n",
       "    </tr>\n",
       "    <tr>\n",
       "      <th>2002</th>\n",
       "      <td>215.0</td>\n",
       "      <td>0.133735</td>\n",
       "      <td>0.296818</td>\n",
       "      <td>-1.000</td>\n",
       "      <td>0.0</td>\n",
       "      <td>0.045</td>\n",
       "      <td>0.28400</td>\n",
       "      <td>1.0</td>\n",
       "    </tr>\n",
       "    <tr>\n",
       "      <th>2003</th>\n",
       "      <td>286.0</td>\n",
       "      <td>0.104874</td>\n",
       "      <td>0.239806</td>\n",
       "      <td>-1.000</td>\n",
       "      <td>0.0</td>\n",
       "      <td>0.000</td>\n",
       "      <td>0.24150</td>\n",
       "      <td>0.8</td>\n",
       "    </tr>\n",
       "    <tr>\n",
       "      <th>2004</th>\n",
       "      <td>280.0</td>\n",
       "      <td>0.115004</td>\n",
       "      <td>0.271143</td>\n",
       "      <td>-1.000</td>\n",
       "      <td>0.0</td>\n",
       "      <td>0.000</td>\n",
       "      <td>0.27775</td>\n",
       "      <td>0.8</td>\n",
       "    </tr>\n",
       "    <tr>\n",
       "      <th>2005</th>\n",
       "      <td>235.0</td>\n",
       "      <td>0.129945</td>\n",
       "      <td>0.286521</td>\n",
       "      <td>-1.000</td>\n",
       "      <td>0.0</td>\n",
       "      <td>0.050</td>\n",
       "      <td>0.28800</td>\n",
       "      <td>1.0</td>\n",
       "    </tr>\n",
       "    <tr>\n",
       "      <th>2006</th>\n",
       "      <td>266.0</td>\n",
       "      <td>0.105910</td>\n",
       "      <td>0.277338</td>\n",
       "      <td>-1.000</td>\n",
       "      <td>0.0</td>\n",
       "      <td>0.000</td>\n",
       "      <td>0.25000</td>\n",
       "      <td>1.0</td>\n",
       "    </tr>\n",
       "    <tr>\n",
       "      <th>2007</th>\n",
       "      <td>348.0</td>\n",
       "      <td>0.110641</td>\n",
       "      <td>0.247463</td>\n",
       "      <td>-1.000</td>\n",
       "      <td>0.0</td>\n",
       "      <td>0.000</td>\n",
       "      <td>0.24425</td>\n",
       "      <td>1.0</td>\n",
       "    </tr>\n",
       "    <tr>\n",
       "      <th>2008</th>\n",
       "      <td>382.0</td>\n",
       "      <td>0.084071</td>\n",
       "      <td>0.232667</td>\n",
       "      <td>-0.793</td>\n",
       "      <td>0.0</td>\n",
       "      <td>0.000</td>\n",
       "      <td>0.13600</td>\n",
       "      <td>1.0</td>\n",
       "    </tr>\n",
       "  </tbody>\n",
       "</table>\n",
       "</div>"
      ],
      "text/plain": [
       "     sentiment_score                                                     \n",
       "               count      mean       std    min  25%    50%      75%  max\n",
       "year                                                                     \n",
       "2001           273.0  0.129802  0.262625 -1.000  0.0  0.000  0.25800  1.0\n",
       "2002           215.0  0.133735  0.296818 -1.000  0.0  0.045  0.28400  1.0\n",
       "2003           286.0  0.104874  0.239806 -1.000  0.0  0.000  0.24150  0.8\n",
       "2004           280.0  0.115004  0.271143 -1.000  0.0  0.000  0.27775  0.8\n",
       "2005           235.0  0.129945  0.286521 -1.000  0.0  0.050  0.28800  1.0\n",
       "2006           266.0  0.105910  0.277338 -1.000  0.0  0.000  0.25000  1.0\n",
       "2007           348.0  0.110641  0.247463 -1.000  0.0  0.000  0.24425  1.0\n",
       "2008           382.0  0.084071  0.232667 -0.793  0.0  0.000  0.13600  1.0"
      ]
     },
     "execution_count": 54,
     "metadata": {},
     "output_type": "execute_result"
    }
   ],
   "source": [
    "df = pd.DataFrame({'year': years, \n",
    "                  'sentiment_score': sentiment_scores,\n",
    "                  'sentiment_category': sentiment_categories})\n",
    "df.groupby('year').describe()"
   ]
  },
  {
   "cell_type": "code",
   "execution_count": 55,
   "metadata": {},
   "outputs": [
    {
     "data": {
      "image/png": "[encoded data removed]",
      "text/plain": [
       "<Figure size 432x288 with 1 Axes>"
      ]
     },
     "metadata": {
      "needs_background": "light"
     },
     "output_type": "display_data"
    }
   ],
   "source": [
    "import seaborn \n",
    "plot1 = seaborn.countplot(x = 'year', hue = 'sentiment_category', data = df)"
   ]
  },
  {
   "cell_type": "code",
   "execution_count": 73,
   "metadata": {},
   "outputs": [
    {
     "data": {
      "text/html": [
       "<div>\n",
       "<style scoped>\n",
       "    .dataframe tbody tr th:only-of-type {\n",
       "        vertical-align: middle;\n",
       "    }\n",
       "\n",
       "    .dataframe tbody tr th {\n",
       "        vertical-align: top;\n",
       "    }\n",
       "\n",
       "    .dataframe thead th {\n",
       "        text-align: right;\n",
       "    }\n",
       "</style>\n",
       "<table border=\"1\" class=\"dataframe\">\n",
       "  <thead>\n",
       "    <tr style=\"text-align: right;\">\n",
       "      <th></th>\n",
       "      <th>text</th>\n",
       "      <th>tag</th>\n",
       "    </tr>\n",
       "  </thead>\n",
       "  <tbody>\n",
       "    <tr>\n",
       "      <th>0</th>\n",
       "      <td>&amp;gt;&lt;i&gt;which leads me to say why are you using...</td>\n",
       "      <td>coldtea</td>\n",
       "    </tr>\n",
       "    <tr>\n",
       "      <th>1</th>\n",
       "      <td>&amp;#62; If the application becomes successful yo...</td>\n",
       "      <td>eru</td>\n",
       "    </tr>\n",
       "    <tr>\n",
       "      <th>2</th>\n",
       "      <td>Borland WebBuilder.</td>\n",
       "      <td>jacquesm</td>\n",
       "    </tr>\n",
       "    <tr>\n",
       "      <th>3</th>\n",
       "      <td>Thanks I will look into Pamela Smith&amp;#x27;s wo...</td>\n",
       "      <td>anigbrowl</td>\n",
       "    </tr>\n",
       "    <tr>\n",
       "      <th>4</th>\n",
       "      <td>The article mentions infants who are at greate...</td>\n",
       "      <td>DanBC</td>\n",
       "    </tr>\n",
       "  </tbody>\n",
       "</table>\n",
       "</div>"
      ],
      "text/plain": [
       "                                                text        tag\n",
       "0  &gt;<i>which leads me to say why are you using...    coldtea\n",
       "1  &#62; If the application becomes successful yo...        eru\n",
       "2                                Borland WebBuilder.   jacquesm\n",
       "3  Thanks I will look into Pamela Smith&#x27;s wo...  anigbrowl\n",
       "4  The article mentions infants who are at greate...      DanBC"
      ]
     },
     "execution_count": 73,
     "metadata": {},
     "output_type": "execute_result"
    }
   ],
   "source": [
    "df = pd.read_csv('./hacker_news_sample.csv')\n",
    "top20 = pd.DataFrame(df.by.value_counts()[:20])\n",
    "top20 = top20.reset_index()\n",
    "top20 = top20.rename(columns = {'index': 'by', 'by':'total_comments'})\n",
    "top20_list = top20.by\n",
    "df_top = df[df['by'].isin(top20_list)]\n",
    "\n",
    "# Check output\n",
    "sum(df_top.by.value_counts())\n",
    "\n",
    "comments = pd.DataFrame({'text': df_top.text, 'tag': df_top.by}).reset_index()\n",
    "comments = comments.drop('index', axis = 1)\n",
    "comments.head()"
   ]
  },
  {
   "cell_type": "code",
   "execution_count": 81,
   "metadata": {},
   "outputs": [],
   "source": [
    "import pandas as pd\n",
    "import numpy as np"
   ]
  },
  {
   "cell_type": "code",
   "execution_count": 82,
   "metadata": {},
   "outputs": [],
   "source": [
    "comments2 = comments.copy"
   ]
  },
  {
   "cell_type": "code",
   "execution_count": 86,
   "metadata": {},
   "outputs": [
    {
     "ename": "AttributeError",
     "evalue": "'function' object has no attribute 'dropna'",
     "output_type": "error",
     "traceback": [
      "\u001b[0;31m---------------------------------------------------------------------------\u001b[0m",
      "\u001b[0;31mAttributeError\u001b[0m                            Traceback (most recent call last)",
      "\u001b[0;32m~/myRepos/Build_Unit4/transcripts.py\u001b[0m in \u001b[0;36m<module>\u001b[0;34m\u001b[0m\n\u001b[0;32m----> 1\u001b[0;31m \u001b[0mcomments2\u001b[0m \u001b[0;34m=\u001b[0m \u001b[0mcomments2\u001b[0m\u001b[0;34m.\u001b[0m\u001b[0mdropna\u001b[0m\u001b[0;34m(\u001b[0m\u001b[0minplace\u001b[0m\u001b[0;34m=\u001b[0m\u001b[0;32mTrue\u001b[0m\u001b[0;34m)\u001b[0m\u001b[0;34m\u001b[0m\u001b[0m\n\u001b[0m",
      "\u001b[0;31mAttributeError\u001b[0m: 'function' object has no attribute 'dropna'"
     ]
    }
   ],
   "source": [
    "comments2 = comments2.dropna(inplace=True)"
   ]
  },
  {
   "cell_type": "code",
   "execution_count": 84,
   "metadata": {},
   "outputs": [
    {
     "ename": "AttributeError",
     "evalue": "'function' object has no attribute 'isna'",
     "output_type": "error",
     "traceback": [
      "\u001b[0;31m---------------------------------------------------------------------------\u001b[0m",
      "\u001b[0;31mAttributeError\u001b[0m                            Traceback (most recent call last)",
      "\u001b[0;32m~/myRepos/Build_Unit4/transcripts.py\u001b[0m in \u001b[0;36m<module>\u001b[0;34m\u001b[0m\n\u001b[0;32m----> 1\u001b[0;31m \u001b[0mcomments2\u001b[0m\u001b[0;34m.\u001b[0m\u001b[0misna\u001b[0m\u001b[0;34m.\u001b[0m\u001b[0msum\u001b[0m\u001b[0;34m(\u001b[0m\u001b[0;34m)\u001b[0m\u001b[0;34m\u001b[0m\u001b[0m\n\u001b[0m",
      "\u001b[0;31mAttributeError\u001b[0m: 'function' object has no attribute 'isna'"
     ]
    }
   ],
   "source": [
    "comments2.isna.sum()"
   ]
  },
  {
   "cell_type": "code",
   "execution_count": null,
   "metadata": {},
   "outputs": [],
   "source": []
  }
 ],
 "metadata": {
  "kernelspec": {
   "display_name": "NLP",
   "language": "python",
   "name": "nlp"
  },
  "language_info": {
   "codemirror_mode": {
    "name": "ipython",
    "version": 3
   },
   "file_extension": ".py",
   "mimetype": "text/x-python",
   "name": "python",
   "nbconvert_exporter": "python",
   "pygments_lexer": "ipython3",
   "version": "3.7.0"
  }
 },
 "nbformat": 4,
 "nbformat_minor": 4
}
